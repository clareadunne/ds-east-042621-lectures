{
 "cells": [
  {
   "cell_type": "markdown",
   "metadata": {},
   "source": [
    "# Text Classification Assessment\n",
    "\n",
    "This assessment is a text classification project where the goal is to classify the genre of a movie based on its characteristics, primarily the text of the plot summarization. You have a training set of data that you will use to identify and create your best predicting model. Then you will use that model to predict the classes of the test set of data. We will compare the performance of your predictions to your classmates using the F1 Score. https://scikit-learn.org/stable/modules/generated/sklearn.metrics.f1_score.html\n",
    "\n",
    "The **movie_train.csv** dataset contains information (`Release Year`, `Title`, `Plot`, `Director`, `Cast`) about 10,682 movies and the label of `Genre`. There are 9 different genres in this data set, so this is a multiclass problem. You are expected to primarily use the plot column, but can use the additional columns as you see fit.\n",
    "\n",
    "After you have identified yoru best performing model, you will create predictions for the test set of data. The test set of data, contains 3,561 movies with all of their information except the `Genre`. \n",
    "\n",
    "Below is a list of tasks that you will definitely want to complete for this challenge, but this list is not exhaustive. It does not include any tasks around handling class imbalance or about how to test multiple different models and tuning hyperparameters, but you should still look at doing those to see if they help you to create a better predictive model.\n",
    "\n",
    "**Deliverables:** \n",
    "    For this project you will have two things you need to create, your predictions on the holdoutset and a notebook detailing your process.  \n",
    "\n",
    "\n",
    "# Good Luck"
   ]
  },
  {
   "cell_type": "markdown",
   "metadata": {},
   "source": [
    "### Task #1: Perform imports and load the dataset into a pandas DataFrame\n"
   ]
  },
  {
   "cell_type": "code",
   "execution_count": 1,
   "metadata": {},
   "outputs": [],
   "source": [
    "import pandas as pd\n",
    "import numpy as np\n",
    "\n",
    "import string\n",
    "\n",
    "import nltk\n",
    "from nltk.corpus import stopwords\n",
    "from nltk.tokenize import regexp_tokenize, word_tokenize, RegexpTokenizer\n",
    "from nltk.corpus import wordnet\n",
    "from nltk import pos_tag"
   ]
  },
  {
   "cell_type": "code",
   "execution_count": 2,
   "metadata": {},
   "outputs": [
    {
     "name": "stderr",
     "output_type": "stream",
     "text": [
      "[nltk_data] Downloading package stopwords to\n",
      "[nltk_data]     C:\\Users\\clare\\AppData\\Roaming\\nltk_data...\n",
      "[nltk_data]   Package stopwords is already up-to-date!\n"
     ]
    },
    {
     "data": {
      "text/plain": [
       "True"
      ]
     },
     "execution_count": 2,
     "metadata": {},
     "output_type": "execute_result"
    }
   ],
   "source": [
    "nltk.download(\"stopwords\")"
   ]
  },
  {
   "cell_type": "code",
   "execution_count": 3,
   "metadata": {},
   "outputs": [],
   "source": [
    "df = pd.read_csv('movie_train.csv', index_col=0)"
   ]
  },
  {
   "cell_type": "code",
   "execution_count": 4,
   "metadata": {},
   "outputs": [
    {
     "data": {
      "text/html": [
       "<div>\n",
       "<style scoped>\n",
       "    .dataframe tbody tr th:only-of-type {\n",
       "        vertical-align: middle;\n",
       "    }\n",
       "\n",
       "    .dataframe tbody tr th {\n",
       "        vertical-align: top;\n",
       "    }\n",
       "\n",
       "    .dataframe thead th {\n",
       "        text-align: right;\n",
       "    }\n",
       "</style>\n",
       "<table border=\"1\" class=\"dataframe\">\n",
       "  <thead>\n",
       "    <tr style=\"text-align: right;\">\n",
       "      <th></th>\n",
       "      <th>Release Year</th>\n",
       "      <th>Title</th>\n",
       "      <th>Plot</th>\n",
       "      <th>Director</th>\n",
       "      <th>Cast</th>\n",
       "      <th>Genre</th>\n",
       "    </tr>\n",
       "  </thead>\n",
       "  <tbody>\n",
       "    <tr>\n",
       "      <th>10281</th>\n",
       "      <td>1984</td>\n",
       "      <td>Silent Madness</td>\n",
       "      <td>A computer error leads to the accidental relea...</td>\n",
       "      <td>Simon Nuchtern</td>\n",
       "      <td>Belinda Montgomery, Viveca Lindfors</td>\n",
       "      <td>horror</td>\n",
       "    </tr>\n",
       "    <tr>\n",
       "      <th>7341</th>\n",
       "      <td>1960</td>\n",
       "      <td>Desire in the Dust</td>\n",
       "      <td>Lonnie Wilson (Ken Scott), the son of a sharec...</td>\n",
       "      <td>Robert L. Lippert</td>\n",
       "      <td>Raymond Burr, Martha Hyer, Joan Bennett</td>\n",
       "      <td>drama</td>\n",
       "    </tr>\n",
       "    <tr>\n",
       "      <th>10587</th>\n",
       "      <td>1986</td>\n",
       "      <td>On the Edge</td>\n",
       "      <td>A gaunt, bushy-bearded, 44-year-old Wes Holman...</td>\n",
       "      <td>Rob Nilsson</td>\n",
       "      <td>Bruce Dern, Pam Grier</td>\n",
       "      <td>drama</td>\n",
       "    </tr>\n",
       "    <tr>\n",
       "      <th>25495</th>\n",
       "      <td>1988</td>\n",
       "      <td>Ram-Avtar</td>\n",
       "      <td>Ram and Avtar are both childhood best friends....</td>\n",
       "      <td>Sunil Hingorani</td>\n",
       "      <td>Sunny Deol, Anil Kapoor, Sridevi</td>\n",
       "      <td>drama</td>\n",
       "    </tr>\n",
       "    <tr>\n",
       "      <th>16607</th>\n",
       "      <td>2013</td>\n",
       "      <td>Machete Kills</td>\n",
       "      <td>Machete Cortez (Danny Trejo) and Sartana River...</td>\n",
       "      <td>Robert Rodriguez</td>\n",
       "      <td>Danny Trejo, Michelle Rodriguez, Sofía Vergara...</td>\n",
       "      <td>action</td>\n",
       "    </tr>\n",
       "  </tbody>\n",
       "</table>\n",
       "</div>"
      ],
      "text/plain": [
       "       Release Year               Title  \\\n",
       "10281          1984      Silent Madness   \n",
       "7341           1960  Desire in the Dust   \n",
       "10587          1986         On the Edge   \n",
       "25495          1988           Ram-Avtar   \n",
       "16607          2013       Machete Kills   \n",
       "\n",
       "                                                    Plot           Director  \\\n",
       "10281  A computer error leads to the accidental relea...     Simon Nuchtern   \n",
       "7341   Lonnie Wilson (Ken Scott), the son of a sharec...  Robert L. Lippert   \n",
       "10587  A gaunt, bushy-bearded, 44-year-old Wes Holman...        Rob Nilsson   \n",
       "25495  Ram and Avtar are both childhood best friends....    Sunil Hingorani   \n",
       "16607  Machete Cortez (Danny Trejo) and Sartana River...   Robert Rodriguez   \n",
       "\n",
       "                                                    Cast   Genre  \n",
       "10281                Belinda Montgomery, Viveca Lindfors  horror  \n",
       "7341             Raymond Burr, Martha Hyer, Joan Bennett   drama  \n",
       "10587                              Bruce Dern, Pam Grier   drama  \n",
       "25495                   Sunny Deol, Anil Kapoor, Sridevi   drama  \n",
       "16607  Danny Trejo, Michelle Rodriguez, Sofía Vergara...  action  "
      ]
     },
     "execution_count": 4,
     "metadata": {},
     "output_type": "execute_result"
    }
   ],
   "source": [
    "df.head()"
   ]
  },
  {
   "cell_type": "markdown",
   "metadata": {},
   "source": [
    "### Task #2: Check for missing values:"
   ]
  },
  {
   "cell_type": "code",
   "execution_count": 5,
   "metadata": {},
   "outputs": [
    {
     "name": "stdout",
     "output_type": "stream",
     "text": [
      "<class 'pandas.core.frame.DataFrame'>\n",
      "Int64Index: 10682 entries, 10281 to 3583\n",
      "Data columns (total 6 columns):\n",
      " #   Column        Non-Null Count  Dtype \n",
      "---  ------        --------------  ----- \n",
      " 0   Release Year  10682 non-null  int64 \n",
      " 1   Title         10682 non-null  object\n",
      " 2   Plot          10682 non-null  object\n",
      " 3   Director      10682 non-null  object\n",
      " 4   Cast          10513 non-null  object\n",
      " 5   Genre         10682 non-null  object\n",
      "dtypes: int64(1), object(5)\n",
      "memory usage: 584.2+ KB\n"
     ]
    }
   ],
   "source": [
    "df.info()\n",
    "\n",
    "#there aren't any in the relevant columns"
   ]
  },
  {
   "cell_type": "markdown",
   "metadata": {},
   "source": [
    "### Task #3: Remove NaN values:"
   ]
  },
  {
   "cell_type": "code",
   "execution_count": 6,
   "metadata": {},
   "outputs": [
    {
     "data": {
      "text/html": [
       "<div>\n",
       "<style scoped>\n",
       "    .dataframe tbody tr th:only-of-type {\n",
       "        vertical-align: middle;\n",
       "    }\n",
       "\n",
       "    .dataframe tbody tr th {\n",
       "        vertical-align: top;\n",
       "    }\n",
       "\n",
       "    .dataframe thead th {\n",
       "        text-align: right;\n",
       "    }\n",
       "</style>\n",
       "<table border=\"1\" class=\"dataframe\">\n",
       "  <thead>\n",
       "    <tr style=\"text-align: right;\">\n",
       "      <th></th>\n",
       "      <th>Release Year</th>\n",
       "      <th>Title</th>\n",
       "      <th>Plot</th>\n",
       "      <th>Director</th>\n",
       "      <th>Cast</th>\n",
       "      <th>Genre</th>\n",
       "      <th>Plot Len</th>\n",
       "    </tr>\n",
       "  </thead>\n",
       "  <tbody>\n",
       "    <tr>\n",
       "      <th>24876</th>\n",
       "      <td>1973</td>\n",
       "      <td>Chhalia</td>\n",
       "      <td>Chhalia is a family thriller.</td>\n",
       "      <td>Mukul Dutt</td>\n",
       "      <td>Navin Nischol, Nanda, Shatrughan Sinha</td>\n",
       "      <td>action</td>\n",
       "      <td>29</td>\n",
       "    </tr>\n",
       "    <tr>\n",
       "      <th>6210</th>\n",
       "      <td>1954</td>\n",
       "      <td>They Were So Young</td>\n",
       "      <td>\"A beach near Rio de Janeiro\".</td>\n",
       "      <td>Kurt Neumann</td>\n",
       "      <td>Raymond Burr, Scott Brady, Johanna Matz</td>\n",
       "      <td>drama</td>\n",
       "      <td>30</td>\n",
       "    </tr>\n",
       "    <tr>\n",
       "      <th>7382</th>\n",
       "      <td>1960</td>\n",
       "      <td>Noose for a Gunman</td>\n",
       "      <td>A gunman takes on a corrupt land baron.</td>\n",
       "      <td>Edward L. Cahn</td>\n",
       "      <td>Jim Davis, Lyn Thomas</td>\n",
       "      <td>western</td>\n",
       "      <td>39</td>\n",
       "    </tr>\n",
       "    <tr>\n",
       "      <th>4075</th>\n",
       "      <td>1945</td>\n",
       "      <td>A Medal for Benny</td>\n",
       "      <td>The film examines small town hypocrisy.</td>\n",
       "      <td>Irving Pichel</td>\n",
       "      <td>Dorothy Lamour, Arturo de Córdova</td>\n",
       "      <td>drama</td>\n",
       "      <td>39</td>\n",
       "    </tr>\n",
       "    <tr>\n",
       "      <th>25919</th>\n",
       "      <td>1997</td>\n",
       "      <td>Suraj</td>\n",
       "      <td>Suraj is an Action film for Mithun Fans.</td>\n",
       "      <td>T.L.V. Prasad</td>\n",
       "      <td>Rakesh Bedi, Mithun Chakraborty, Puneet Issar</td>\n",
       "      <td>action</td>\n",
       "      <td>40</td>\n",
       "    </tr>\n",
       "    <tr>\n",
       "      <th>...</th>\n",
       "      <td>...</td>\n",
       "      <td>...</td>\n",
       "      <td>...</td>\n",
       "      <td>...</td>\n",
       "      <td>...</td>\n",
       "      <td>...</td>\n",
       "      <td>...</td>\n",
       "    </tr>\n",
       "    <tr>\n",
       "      <th>31250</th>\n",
       "      <td>2014</td>\n",
       "      <td>Anjaan</td>\n",
       "      <td>A handicapped man named Krishna (Suriya) arriv...</td>\n",
       "      <td>Lingusamy</td>\n",
       "      <td>Suriya, Samantha, Vidyut Jamwal, Manoj Bajpai</td>\n",
       "      <td>action</td>\n",
       "      <td>14242</td>\n",
       "    </tr>\n",
       "    <tr>\n",
       "      <th>3592</th>\n",
       "      <td>1943</td>\n",
       "      <td>Isle of Forgotten Sins</td>\n",
       "      <td>Somewhere on one of the English-speaking South...</td>\n",
       "      <td>Edgar G. Ulmer</td>\n",
       "      <td>Gale Sondergaard, John Carradine</td>\n",
       "      <td>adventure</td>\n",
       "      <td>15046</td>\n",
       "    </tr>\n",
       "    <tr>\n",
       "      <th>3009</th>\n",
       "      <td>1941</td>\n",
       "      <td>Broadway Limited</td>\n",
       "      <td>Following the screening of her latest film \"Th...</td>\n",
       "      <td>Gordon Douglas</td>\n",
       "      <td>Victor McLaglen, Patsy Kelly, ZaSu Pitts</td>\n",
       "      <td>comedy</td>\n",
       "      <td>16517</td>\n",
       "    </tr>\n",
       "    <tr>\n",
       "      <th>23223</th>\n",
       "      <td>1987</td>\n",
       "      <td>Sworn Brothers</td>\n",
       "      <td>When Lam Ting-yat was little, his father died ...</td>\n",
       "      <td>David Lai</td>\n",
       "      <td>Andy Lau, Cheung Kwok Keung</td>\n",
       "      <td>crime</td>\n",
       "      <td>16636</td>\n",
       "    </tr>\n",
       "    <tr>\n",
       "      <th>15941</th>\n",
       "      <td>2010</td>\n",
       "      <td>Stone</td>\n",
       "      <td>Young mother Madylyn Mabry puts her daughter t...</td>\n",
       "      <td>John Curran</td>\n",
       "      <td>Robert De Niro, Edward Norton, Milla Jovovich</td>\n",
       "      <td>thriller</td>\n",
       "      <td>25123</td>\n",
       "    </tr>\n",
       "  </tbody>\n",
       "</table>\n",
       "<p>10682 rows × 7 columns</p>\n",
       "</div>"
      ],
      "text/plain": [
       "       Release Year                   Title  \\\n",
       "24876          1973                 Chhalia   \n",
       "6210           1954      They Were So Young   \n",
       "7382           1960      Noose for a Gunman   \n",
       "4075           1945       A Medal for Benny   \n",
       "25919          1997                   Suraj   \n",
       "...             ...                     ...   \n",
       "31250          2014                  Anjaan   \n",
       "3592           1943  Isle of Forgotten Sins   \n",
       "3009           1941        Broadway Limited   \n",
       "23223          1987          Sworn Brothers   \n",
       "15941          2010                   Stone   \n",
       "\n",
       "                                                    Plot        Director  \\\n",
       "24876                      Chhalia is a family thriller.      Mukul Dutt   \n",
       "6210                      \"A beach near Rio de Janeiro\".    Kurt Neumann   \n",
       "7382             A gunman takes on a corrupt land baron.  Edward L. Cahn   \n",
       "4075             The film examines small town hypocrisy.   Irving Pichel   \n",
       "25919           Suraj is an Action film for Mithun Fans.   T.L.V. Prasad   \n",
       "...                                                  ...             ...   \n",
       "31250  A handicapped man named Krishna (Suriya) arriv...       Lingusamy   \n",
       "3592   Somewhere on one of the English-speaking South...  Edgar G. Ulmer   \n",
       "3009   Following the screening of her latest film \"Th...  Gordon Douglas   \n",
       "23223  When Lam Ting-yat was little, his father died ...       David Lai   \n",
       "15941  Young mother Madylyn Mabry puts her daughter t...     John Curran   \n",
       "\n",
       "                                                Cast      Genre  Plot Len  \n",
       "24876         Navin Nischol, Nanda, Shatrughan Sinha     action        29  \n",
       "6210         Raymond Burr, Scott Brady, Johanna Matz      drama        30  \n",
       "7382                           Jim Davis, Lyn Thomas    western        39  \n",
       "4075               Dorothy Lamour, Arturo de Córdova      drama        39  \n",
       "25919  Rakesh Bedi, Mithun Chakraborty, Puneet Issar     action        40  \n",
       "...                                              ...        ...       ...  \n",
       "31250  Suriya, Samantha, Vidyut Jamwal, Manoj Bajpai     action     14242  \n",
       "3592                Gale Sondergaard, John Carradine  adventure     15046  \n",
       "3009        Victor McLaglen, Patsy Kelly, ZaSu Pitts     comedy     16517  \n",
       "23223                    Andy Lau, Cheung Kwok Keung      crime     16636  \n",
       "15941  Robert De Niro, Edward Norton, Milla Jovovich   thriller     25123  \n",
       "\n",
       "[10682 rows x 7 columns]"
      ]
     },
     "execution_count": 6,
     "metadata": {},
     "output_type": "execute_result"
    }
   ],
   "source": [
    "# assess plot lengths (min and max)\n",
    "\n",
    "df['Plot Len'] = df['Plot'].str.len()\n",
    "\n",
    "df.sort_values('Plot Len')"
   ]
  },
  {
   "cell_type": "code",
   "execution_count": 7,
   "metadata": {},
   "outputs": [
    {
     "data": {
      "text/html": [
       "<div>\n",
       "<style scoped>\n",
       "    .dataframe tbody tr th:only-of-type {\n",
       "        vertical-align: middle;\n",
       "    }\n",
       "\n",
       "    .dataframe tbody tr th {\n",
       "        vertical-align: top;\n",
       "    }\n",
       "\n",
       "    .dataframe thead th {\n",
       "        text-align: right;\n",
       "    }\n",
       "</style>\n",
       "<table border=\"1\" class=\"dataframe\">\n",
       "  <thead>\n",
       "    <tr style=\"text-align: right;\">\n",
       "      <th></th>\n",
       "      <th>Release Year</th>\n",
       "      <th>Title</th>\n",
       "      <th>Plot</th>\n",
       "      <th>Director</th>\n",
       "      <th>Cast</th>\n",
       "      <th>Plot Len</th>\n",
       "    </tr>\n",
       "    <tr>\n",
       "      <th>Genre</th>\n",
       "      <th></th>\n",
       "      <th></th>\n",
       "      <th></th>\n",
       "      <th></th>\n",
       "      <th></th>\n",
       "      <th></th>\n",
       "    </tr>\n",
       "  </thead>\n",
       "  <tbody>\n",
       "    <tr>\n",
       "      <th>action</th>\n",
       "      <td>830</td>\n",
       "      <td>830</td>\n",
       "      <td>830</td>\n",
       "      <td>830</td>\n",
       "      <td>823</td>\n",
       "      <td>830</td>\n",
       "    </tr>\n",
       "    <tr>\n",
       "      <th>adventure</th>\n",
       "      <td>331</td>\n",
       "      <td>331</td>\n",
       "      <td>331</td>\n",
       "      <td>331</td>\n",
       "      <td>329</td>\n",
       "      <td>331</td>\n",
       "    </tr>\n",
       "    <tr>\n",
       "      <th>comedy</th>\n",
       "      <td>2724</td>\n",
       "      <td>2724</td>\n",
       "      <td>2724</td>\n",
       "      <td>2724</td>\n",
       "      <td>2703</td>\n",
       "      <td>2724</td>\n",
       "    </tr>\n",
       "    <tr>\n",
       "      <th>crime</th>\n",
       "      <td>328</td>\n",
       "      <td>328</td>\n",
       "      <td>328</td>\n",
       "      <td>328</td>\n",
       "      <td>326</td>\n",
       "      <td>328</td>\n",
       "    </tr>\n",
       "    <tr>\n",
       "      <th>drama</th>\n",
       "      <td>3770</td>\n",
       "      <td>3770</td>\n",
       "      <td>3770</td>\n",
       "      <td>3770</td>\n",
       "      <td>3673</td>\n",
       "      <td>3770</td>\n",
       "    </tr>\n",
       "    <tr>\n",
       "      <th>horror</th>\n",
       "      <td>840</td>\n",
       "      <td>840</td>\n",
       "      <td>840</td>\n",
       "      <td>840</td>\n",
       "      <td>810</td>\n",
       "      <td>840</td>\n",
       "    </tr>\n",
       "    <tr>\n",
       "      <th>romance</th>\n",
       "      <td>649</td>\n",
       "      <td>649</td>\n",
       "      <td>649</td>\n",
       "      <td>649</td>\n",
       "      <td>644</td>\n",
       "      <td>649</td>\n",
       "    </tr>\n",
       "    <tr>\n",
       "      <th>thriller</th>\n",
       "      <td>685</td>\n",
       "      <td>685</td>\n",
       "      <td>685</td>\n",
       "      <td>685</td>\n",
       "      <td>680</td>\n",
       "      <td>685</td>\n",
       "    </tr>\n",
       "    <tr>\n",
       "      <th>western</th>\n",
       "      <td>525</td>\n",
       "      <td>525</td>\n",
       "      <td>525</td>\n",
       "      <td>525</td>\n",
       "      <td>525</td>\n",
       "      <td>525</td>\n",
       "    </tr>\n",
       "  </tbody>\n",
       "</table>\n",
       "</div>"
      ],
      "text/plain": [
       "           Release Year  Title  Plot  Director  Cast  Plot Len\n",
       "Genre                                                         \n",
       "action              830    830   830       830   823       830\n",
       "adventure           331    331   331       331   329       331\n",
       "comedy             2724   2724  2724      2724  2703      2724\n",
       "crime               328    328   328       328   326       328\n",
       "drama              3770   3770  3770      3770  3673      3770\n",
       "horror              840    840   840       840   810       840\n",
       "romance             649    649   649       649   644       649\n",
       "thriller            685    685   685       685   680       685\n",
       "western             525    525   525       525   525       525"
      ]
     },
     "execution_count": 7,
     "metadata": {},
     "output_type": "execute_result"
    }
   ],
   "source": [
    "df.groupby('Genre').count()"
   ]
  },
  {
   "cell_type": "markdown",
   "metadata": {},
   "source": [
    "### Task #4: Take a look at the columns and do some EDA to familiarize yourself with the data. This will consists of you cleaning up the data set by doing things like removing stop words, tokenizing, and/or lemitizing words. "
   ]
  },
  {
   "cell_type": "code",
   "execution_count": 8,
   "metadata": {},
   "outputs": [],
   "source": [
    "min_movies_of_a_given_genre_attributed_to_a_director = 10"
   ]
  },
  {
   "cell_type": "code",
   "execution_count": 9,
   "metadata": {},
   "outputs": [
    {
     "name": "stdout",
     "output_type": "stream",
     "text": [
      "1 0 10 0 5 2 0 0 2\n"
     ]
    }
   ],
   "source": [
    "action = df[df['Genre'] == 'action'].groupby('Director').count().sort_values('Release Year', ascending = False)[df[df['Genre'] == 'action'].groupby('Director').count().sort_values('Release Year', ascending = False)['Release Year'] > min_movies_of_a_given_genre_attributed_to_a_director]\n",
    "action_directors = list(action.index)\n",
    "action_directors\n",
    "\n",
    "adventure = df[df['Genre'] == 'adventure'].groupby('Director').count().sort_values('Release Year', ascending = False)[df[df['Genre'] == 'adventure'].groupby('Director').count().sort_values('Release Year', ascending = False)['Release Year'] > min_movies_of_a_given_genre_attributed_to_a_director]\n",
    "adventure_directors = list(adventure.index)\n",
    "adventure_directors\n",
    "\n",
    "comedy = df[df['Genre'] == 'comedy'].groupby('Director').count().sort_values('Release Year', ascending = False)[df[df['Genre'] == 'comedy'].groupby('Director').count().sort_values('Release Year', ascending = False)['Release Year'] > min_movies_of_a_given_genre_attributed_to_a_director]\n",
    "comedy_directors = list(comedy.index)\n",
    "comedy_directors\n",
    "\n",
    "crime = df[df['Genre'] == 'crime'].groupby('Director').count().sort_values('Release Year', ascending = False)[df[df['Genre'] == 'crime'].groupby('Director').count().sort_values('Release Year', ascending = False)['Release Year'] > min_movies_of_a_given_genre_attributed_to_a_director]\n",
    "crime_directors = list(crime.index)\n",
    "crime_directors\n",
    "\n",
    "drama = df[df['Genre'] == 'drama'].groupby('Director').count().sort_values('Release Year', ascending = False)[df[df['Genre'] == 'drama'].groupby('Director').count().sort_values('Release Year', ascending = False)['Release Year'] > min_movies_of_a_given_genre_attributed_to_a_director]\n",
    "drama_directors = list(drama.index)\n",
    "drama_directors\n",
    "\n",
    "horror = df[df['Genre'] == 'horror'].groupby('Director').count().sort_values('Release Year', ascending = False)[df[df['Genre'] == 'horror'].groupby('Director').count().sort_values('Release Year', ascending = False)['Release Year'] > min_movies_of_a_given_genre_attributed_to_a_director]\n",
    "horror_directors = list(horror.index)\n",
    "horror_directors\n",
    "\n",
    "romance = df[df['Genre'] == 'romance'].groupby('Director').count().sort_values('Release Year', ascending = False)[df[df['Genre'] == 'romance'].groupby('Director').count().sort_values('Release Year', ascending = False)['Release Year'] > min_movies_of_a_given_genre_attributed_to_a_director]\n",
    "romance_directors = list(romance.index)\n",
    "romance_directors\n",
    "\n",
    "thriller = df[df['Genre'] == 'thriller'].groupby('Director').count().sort_values('Release Year', ascending = False)[df[df['Genre'] == 'thriller'].groupby('Director').count().sort_values('Release Year', ascending = False)['Release Year'] > min_movies_of_a_given_genre_attributed_to_a_director]\n",
    "thriller_directors = list(thriller.index)\n",
    "thriller_directors\n",
    "\n",
    "western = df[df['Genre'] == 'western'].groupby('Director').count().sort_values('Release Year', ascending = False)[df[df['Genre'] == 'western'].groupby('Director').count().sort_values('Release Year', ascending = False)['Release Year'] > min_movies_of_a_given_genre_attributed_to_a_director]\n",
    "western_directors = list(western.index)\n",
    "western_directors\n",
    "\n",
    "print(len(action_directors), len(adventure_directors), len(comedy_directors), len(crime_directors),\n",
    "      len(drama_directors), len(horror_directors), len(romance_directors), len(thriller_directors),\n",
    "      len(western_directors))\n"
   ]
  },
  {
   "cell_type": "markdown",
   "metadata": {},
   "source": [
    "I thought that the directors might be a useful feature, but there are only 20 directors with 10 or more credits in a given genre."
   ]
  },
  {
   "cell_type": "markdown",
   "metadata": {},
   "source": [
    "#### Tokenizer"
   ]
  },
  {
   "cell_type": "code",
   "execution_count": 10,
   "metadata": {},
   "outputs": [
    {
     "name": "stderr",
     "output_type": "stream",
     "text": [
      "<ipython-input-10-48bbe6e5c7c9>:5: SettingWithCopyWarning: \n",
      "A value is trying to be set on a copy of a slice from a DataFrame\n",
      "\n",
      "See the caveats in the documentation: https://pandas.pydata.org/pandas-docs/stable/user_guide/indexing.html#returning-a-view-versus-a-copy\n",
      "  df['Plot'][i] = tokenizer.tokenize(df['Plot'][i])\n"
     ]
    }
   ],
   "source": [
    "pattern = \"([a-zA-Z]+(?:'[a-z]+)?)\"\n",
    "tokenizer = RegexpTokenizer(r\"([a-zA-Z]+(?:[’'][a-z]+)?)\")\n",
    "\n",
    "for i in df.index:\n",
    "    df['Plot'][i] = tokenizer.tokenize(df['Plot'][i])\n"
   ]
  },
  {
   "cell_type": "code",
   "execution_count": 11,
   "metadata": {},
   "outputs": [
    {
     "name": "stderr",
     "output_type": "stream",
     "text": [
      "<ipython-input-11-6666b5cb84d2>:5: SettingWithCopyWarning: \n",
      "A value is trying to be set on a copy of a slice from a DataFrame\n",
      "\n",
      "See the caveats in the documentation: https://pandas.pydata.org/pandas-docs/stable/user_guide/indexing.html#returning-a-view-versus-a-copy\n",
      "  df['Plot'][i] = [word.lower() for word in df['Plot'][i]]\n",
      "<ipython-input-11-6666b5cb84d2>:6: SettingWithCopyWarning: \n",
      "A value is trying to be set on a copy of a slice from a DataFrame\n",
      "\n",
      "See the caveats in the documentation: https://pandas.pydata.org/pandas-docs/stable/user_guide/indexing.html#returning-a-view-versus-a-copy\n",
      "  df['Plot'][i] = [word for word in df['Plot'][i] if word not in sw]\n"
     ]
    }
   ],
   "source": [
    "sw = stopwords.words('english')\n",
    "sw.append('film')\n",
    "\n",
    "for i in df.index:\n",
    "    df['Plot'][i] = [word.lower() for word in df['Plot'][i]]\n",
    "    df['Plot'][i] = [word for word in df['Plot'][i] if word not in sw]"
   ]
  },
  {
   "cell_type": "markdown",
   "metadata": {},
   "source": [
    "#### Stemming:"
   ]
  },
  {
   "cell_type": "code",
   "execution_count": 12,
   "metadata": {},
   "outputs": [],
   "source": [
    "# p_stemmer = nltk.stem.PorterStemmer()\n",
    "# s_stemmer = nltk.stem.SnowballStemmer(language=\"english\")"
   ]
  },
  {
   "cell_type": "code",
   "execution_count": 13,
   "metadata": {},
   "outputs": [],
   "source": [
    "# a = 0\n",
    "# for i in df.index:\n",
    "#     df['Plot'][i] = [p_stemmer.stem(word) for word in df['Plot'][i]]\n",
    "#     a += 1\n",
    "#     print(a)"
   ]
  },
  {
   "cell_type": "markdown",
   "metadata": {},
   "source": [
    "#### Lemmatizing: "
   ]
  },
  {
   "cell_type": "code",
   "execution_count": 14,
   "metadata": {},
   "outputs": [],
   "source": [
    "lemmatizer = nltk.stem.WordNetLemmatizer()"
   ]
  },
  {
   "cell_type": "code",
   "execution_count": 15,
   "metadata": {},
   "outputs": [
    {
     "name": "stdout",
     "output_type": "stream",
     "text": [
      "$: dollar\n",
      "    $ -$ --$ A$ C$ HK$ M$ NZ$ S$ U.S.$ US$\n",
      "'': closing quotation mark\n",
      "    ' ''\n",
      "(: opening parenthesis\n",
      "    ( [ {\n",
      "): closing parenthesis\n",
      "    ) ] }\n",
      ",: comma\n",
      "    ,\n",
      "--: dash\n",
      "    --\n",
      ".: sentence terminator\n",
      "    . ! ?\n",
      ":: colon or ellipsis\n",
      "    : ; ...\n",
      "CC: conjunction, coordinating\n",
      "    & 'n and both but either et for less minus neither nor or plus so\n",
      "    therefore times v. versus vs. whether yet\n",
      "CD: numeral, cardinal\n",
      "    mid-1890 nine-thirty forty-two one-tenth ten million 0.5 one forty-\n",
      "    seven 1987 twenty '79 zero two 78-degrees eighty-four IX '60s .025\n",
      "    fifteen 271,124 dozen quintillion DM2,000 ...\n",
      "DT: determiner\n",
      "    all an another any both del each either every half la many much nary\n",
      "    neither no some such that the them these this those\n",
      "EX: existential there\n",
      "    there\n",
      "FW: foreign word\n",
      "    gemeinschaft hund ich jeux habeas Haementeria Herr K'ang-si vous\n",
      "    lutihaw alai je jour objets salutaris fille quibusdam pas trop Monte\n",
      "    terram fiche oui corporis ...\n",
      "IN: preposition or conjunction, subordinating\n",
      "    astride among uppon whether out inside pro despite on by throughout\n",
      "    below within for towards near behind atop around if like until below\n",
      "    next into if beside ...\n",
      "JJ: adjective or numeral, ordinal\n",
      "    third ill-mannered pre-war regrettable oiled calamitous first separable\n",
      "    ectoplasmic battery-powered participatory fourth still-to-be-named\n",
      "    multilingual multi-disciplinary ...\n",
      "JJR: adjective, comparative\n",
      "    bleaker braver breezier briefer brighter brisker broader bumper busier\n",
      "    calmer cheaper choosier cleaner clearer closer colder commoner costlier\n",
      "    cozier creamier crunchier cuter ...\n",
      "JJS: adjective, superlative\n",
      "    calmest cheapest choicest classiest cleanest clearest closest commonest\n",
      "    corniest costliest crassest creepiest crudest cutest darkest deadliest\n",
      "    dearest deepest densest dinkiest ...\n",
      "LS: list item marker\n",
      "    A A. B B. C C. D E F First G H I J K One SP-44001 SP-44002 SP-44005\n",
      "    SP-44007 Second Third Three Two * a b c d first five four one six three\n",
      "    two\n",
      "MD: modal auxiliary\n",
      "    can cannot could couldn't dare may might must need ought shall should\n",
      "    shouldn't will would\n",
      "NN: noun, common, singular or mass\n",
      "    common-carrier cabbage knuckle-duster Casino afghan shed thermostat\n",
      "    investment slide humour falloff slick wind hyena override subhumanity\n",
      "    machinist ...\n",
      "NNP: noun, proper, singular\n",
      "    Motown Venneboerger Czestochwa Ranzer Conchita Trumplane Christos\n",
      "    Oceanside Escobar Kreisler Sawyer Cougar Yvette Ervin ODI Darryl CTCA\n",
      "    Shannon A.K.C. Meltex Liverpool ...\n",
      "NNPS: noun, proper, plural\n",
      "    Americans Americas Amharas Amityvilles Amusements Anarcho-Syndicalists\n",
      "    Andalusians Andes Andruses Angels Animals Anthony Antilles Antiques\n",
      "    Apache Apaches Apocrypha ...\n",
      "NNS: noun, common, plural\n",
      "    undergraduates scotches bric-a-brac products bodyguards facets coasts\n",
      "    divestitures storehouses designs clubs fragrances averages\n",
      "    subjectivists apprehensions muses factory-jobs ...\n",
      "PDT: pre-determiner\n",
      "    all both half many quite such sure this\n",
      "POS: genitive marker\n",
      "    ' 's\n",
      "PRP: pronoun, personal\n",
      "    hers herself him himself hisself it itself me myself one oneself ours\n",
      "    ourselves ownself self she thee theirs them themselves they thou thy us\n",
      "PRP$: pronoun, possessive\n",
      "    her his mine my our ours their thy your\n",
      "RB: adverb\n",
      "    occasionally unabatingly maddeningly adventurously professedly\n",
      "    stirringly prominently technologically magisterially predominately\n",
      "    swiftly fiscally pitilessly ...\n",
      "RBR: adverb, comparative\n",
      "    further gloomier grander graver greater grimmer harder harsher\n",
      "    healthier heavier higher however larger later leaner lengthier less-\n",
      "    perfectly lesser lonelier longer louder lower more ...\n",
      "RBS: adverb, superlative\n",
      "    best biggest bluntest earliest farthest first furthest hardest\n",
      "    heartiest highest largest least less most nearest second tightest worst\n",
      "RP: particle\n",
      "    aboard about across along apart around aside at away back before behind\n",
      "    by crop down ever fast for forth from go high i.e. in into just later\n",
      "    low more off on open out over per pie raising start teeth that through\n",
      "    under unto up up-pp upon whole with you\n",
      "SYM: symbol\n",
      "    % & ' '' ''. ) ). * + ,. < = > @ A[fj] U.S U.S.S.R * ** ***\n",
      "TO: \"to\" as preposition or infinitive marker\n",
      "    to\n",
      "UH: interjection\n",
      "    Goodbye Goody Gosh Wow Jeepers Jee-sus Hubba Hey Kee-reist Oops amen\n",
      "    huh howdy uh dammit whammo shucks heck anyways whodunnit honey golly\n",
      "    man baby diddle hush sonuvabitch ...\n",
      "VB: verb, base form\n",
      "    ask assemble assess assign assume atone attention avoid bake balkanize\n",
      "    bank begin behold believe bend benefit bevel beware bless boil bomb\n",
      "    boost brace break bring broil brush build ...\n",
      "VBD: verb, past tense\n",
      "    dipped pleaded swiped regummed soaked tidied convened halted registered\n",
      "    cushioned exacted snubbed strode aimed adopted belied figgered\n",
      "    speculated wore appreciated contemplated ...\n",
      "VBG: verb, present participle or gerund\n",
      "    telegraphing stirring focusing angering judging stalling lactating\n",
      "    hankerin' alleging veering capping approaching traveling besieging\n",
      "    encrypting interrupting erasing wincing ...\n",
      "VBN: verb, past participle\n",
      "    multihulled dilapidated aerosolized chaired languished panelized used\n",
      "    experimented flourished imitated reunifed factored condensed sheared\n",
      "    unsettled primed dubbed desired ...\n",
      "VBP: verb, present tense, not 3rd person singular\n",
      "    predominate wrap resort sue twist spill cure lengthen brush terminate\n",
      "    appear tend stray glisten obtain comprise detest tease attract\n",
      "    emphasize mold postpone sever return wag ...\n",
      "VBZ: verb, present tense, 3rd person singular\n",
      "    bases reconstructs marks mixes displeases seals carps weaves snatches\n",
      "    slumps stretches authorizes smolders pictures emerges stockpiles\n",
      "    seduces fizzes uses bolsters slaps speaks pleads ...\n",
      "WDT: WH-determiner\n",
      "    that what whatever which whichever\n",
      "WP: WH-pronoun\n",
      "    that what whatever whatsoever which who whom whosoever\n",
      "WP$: WH-pronoun, possessive\n",
      "    whose\n",
      "WRB: Wh-adverb\n",
      "    how however whence whenever where whereby whereever wherein whereof why\n",
      "``: opening quotation mark\n",
      "    ` ``\n"
     ]
    },
    {
     "name": "stderr",
     "output_type": "stream",
     "text": [
      "[nltk_data] Downloading package tagsets to\n",
      "[nltk_data]     C:\\Users\\clare\\AppData\\Roaming\\nltk_data...\n",
      "[nltk_data]   Package tagsets is already up-to-date!\n"
     ]
    }
   ],
   "source": [
    "nltk.download('tagsets')\n",
    "nltk.help.upenn_tagset()"
   ]
  },
  {
   "cell_type": "code",
   "execution_count": 16,
   "metadata": {},
   "outputs": [],
   "source": [
    "def get_wordnet_pos(treebank_tag):\n",
    "    '''\n",
    "    Translate nltk POS to wordnet tags\n",
    "    '''\n",
    "    if treebank_tag.startswith('J'):\n",
    "        return wordnet.ADJ\n",
    "    elif treebank_tag.startswith('V'):\n",
    "        return wordnet.VERB\n",
    "    elif treebank_tag.startswith('N'):\n",
    "        return wordnet.NOUN\n",
    "    elif treebank_tag.startswith('R'):\n",
    "        return wordnet.ADV\n",
    "    else:\n",
    "        return wordnet.NOUN"
   ]
  },
  {
   "cell_type": "code",
   "execution_count": 17,
   "metadata": {},
   "outputs": [
    {
     "name": "stderr",
     "output_type": "stream",
     "text": [
      "[nltk_data] Downloading package averaged_perceptron_tagger to\n",
      "[nltk_data]     C:\\Users\\clare\\AppData\\Roaming\\nltk_data...\n",
      "[nltk_data]   Package averaged_perceptron_tagger is already up-to-\n",
      "[nltk_data]       date!\n"
     ]
    },
    {
     "data": {
      "text/plain": [
       "True"
      ]
     },
     "execution_count": 17,
     "metadata": {},
     "output_type": "execute_result"
    }
   ],
   "source": [
    "nltk.download('averaged_perceptron_tagger')"
   ]
  },
  {
   "cell_type": "code",
   "execution_count": 18,
   "metadata": {},
   "outputs": [
    {
     "name": "stderr",
     "output_type": "stream",
     "text": [
      "<ipython-input-18-9d963c7988ac>:4: SettingWithCopyWarning: \n",
      "A value is trying to be set on a copy of a slice from a DataFrame\n",
      "\n",
      "See the caveats in the documentation: https://pandas.pydata.org/pandas-docs/stable/user_guide/indexing.html#returning-a-view-versus-a-copy\n",
      "  df['Plot Tagged'][i] = pos_tag(df['Plot'][i])\n"
     ]
    }
   ],
   "source": [
    "df['Plot Tagged'] = df['Plot']\n",
    "\n",
    "for i in df.index:\n",
    "    df['Plot Tagged'][i] = pos_tag(df['Plot'][i])\n"
   ]
  },
  {
   "cell_type": "code",
   "execution_count": 19,
   "metadata": {},
   "outputs": [
    {
     "name": "stderr",
     "output_type": "stream",
     "text": [
      "<ipython-input-19-ef0157add60c>:2: SettingWithCopyWarning: \n",
      "A value is trying to be set on a copy of a slice from a DataFrame\n",
      "\n",
      "See the caveats in the documentation: https://pandas.pydata.org/pandas-docs/stable/user_guide/indexing.html#returning-a-view-versus-a-copy\n",
      "  df['Plot Tagged'][i] = [(word[0], get_wordnet_pos(word[1])) for word in df['Plot Tagged'][i]]\n"
     ]
    }
   ],
   "source": [
    "for i in df.index:\n",
    "    df['Plot Tagged'][i] = [(word[0], get_wordnet_pos(word[1])) for word in df['Plot Tagged'][i]]\n"
   ]
  },
  {
   "cell_type": "code",
   "execution_count": 20,
   "metadata": {},
   "outputs": [
    {
     "name": "stderr",
     "output_type": "stream",
     "text": [
      "<ipython-input-20-c510e8a7c89f>:2: SettingWithCopyWarning: \n",
      "A value is trying to be set on a copy of a slice from a DataFrame\n",
      "\n",
      "See the caveats in the documentation: https://pandas.pydata.org/pandas-docs/stable/user_guide/indexing.html#returning-a-view-versus-a-copy\n",
      "  df['Plot'][i] = [lemmatizer.lemmatize(word[0], word[1]) for word in df['Plot Tagged'][i]]\n"
     ]
    }
   ],
   "source": [
    "for i in df.index:\n",
    "    df['Plot'][i] = [lemmatizer.lemmatize(word[0], word[1]) for word in df['Plot Tagged'][i]]\n"
   ]
  },
  {
   "cell_type": "code",
   "execution_count": 21,
   "metadata": {
    "scrolled": true
   },
   "outputs": [
    {
     "name": "stderr",
     "output_type": "stream",
     "text": [
      "<ipython-input-21-1ab0229b7247>:2: SettingWithCopyWarning: \n",
      "A value is trying to be set on a copy of a slice from a DataFrame\n",
      "\n",
      "See the caveats in the documentation: https://pandas.pydata.org/pandas-docs/stable/user_guide/indexing.html#returning-a-view-versus-a-copy\n",
      "  df['Plot'][i] = ' '.join([str(elem) for elem in df['Plot'][i]])\n"
     ]
    },
    {
     "data": {
      "text/html": [
       "<div>\n",
       "<style scoped>\n",
       "    .dataframe tbody tr th:only-of-type {\n",
       "        vertical-align: middle;\n",
       "    }\n",
       "\n",
       "    .dataframe tbody tr th {\n",
       "        vertical-align: top;\n",
       "    }\n",
       "\n",
       "    .dataframe thead th {\n",
       "        text-align: right;\n",
       "    }\n",
       "</style>\n",
       "<table border=\"1\" class=\"dataframe\">\n",
       "  <thead>\n",
       "    <tr style=\"text-align: right;\">\n",
       "      <th></th>\n",
       "      <th>Release Year</th>\n",
       "      <th>Title</th>\n",
       "      <th>Plot</th>\n",
       "      <th>Director</th>\n",
       "      <th>Cast</th>\n",
       "      <th>Genre</th>\n",
       "      <th>Plot Len</th>\n",
       "      <th>Plot Tagged</th>\n",
       "    </tr>\n",
       "  </thead>\n",
       "  <tbody>\n",
       "    <tr>\n",
       "      <th>10281</th>\n",
       "      <td>1984</td>\n",
       "      <td>Silent Madness</td>\n",
       "      <td>computer error lead accidental release homicid...</td>\n",
       "      <td>Simon Nuchtern</td>\n",
       "      <td>Belinda Montgomery, Viveca Lindfors</td>\n",
       "      <td>horror</td>\n",
       "      <td>175</td>\n",
       "      <td>[(computer, n), (error, n), (leads, v), (accid...</td>\n",
       "    </tr>\n",
       "    <tr>\n",
       "      <th>7341</th>\n",
       "      <td>1960</td>\n",
       "      <td>Desire in the Dust</td>\n",
       "      <td>lonnie wilson ken scott son sharecropper zuba ...</td>\n",
       "      <td>Robert L. Lippert</td>\n",
       "      <td>Raymond Burr, Martha Hyer, Joan Bennett</td>\n",
       "      <td>drama</td>\n",
       "      <td>1374</td>\n",
       "      <td>[(lonnie, n), (wilson, n), (ken, v), (scott, a...</td>\n",
       "    </tr>\n",
       "    <tr>\n",
       "      <th>10587</th>\n",
       "      <td>1986</td>\n",
       "      <td>On the Edge</td>\n",
       "      <td>gaunt bushy beard year old wes holman return n...</td>\n",
       "      <td>Rob Nilsson</td>\n",
       "      <td>Bruce Dern, Pam Grier</td>\n",
       "      <td>drama</td>\n",
       "      <td>839</td>\n",
       "      <td>[(gaunt, n), (bushy, n), (bearded, v), (year, ...</td>\n",
       "    </tr>\n",
       "    <tr>\n",
       "      <th>25495</th>\n",
       "      <td>1988</td>\n",
       "      <td>Ram-Avtar</td>\n",
       "      <td>ram avtar childhood best friend difference two...</td>\n",
       "      <td>Sunil Hingorani</td>\n",
       "      <td>Sunny Deol, Anil Kapoor, Sridevi</td>\n",
       "      <td>drama</td>\n",
       "      <td>857</td>\n",
       "      <td>[(ram, n), (avtar, n), (childhood, n), (best, ...</td>\n",
       "    </tr>\n",
       "    <tr>\n",
       "      <th>16607</th>\n",
       "      <td>2013</td>\n",
       "      <td>Machete Kills</td>\n",
       "      <td>machete cortez danny trejo sartana rivera jess...</td>\n",
       "      <td>Robert Rodriguez</td>\n",
       "      <td>Danny Trejo, Michelle Rodriguez, Sofía Vergara...</td>\n",
       "      <td>action</td>\n",
       "      <td>4428</td>\n",
       "      <td>[(machete, a), (cortez, n), (danny, n), (trejo...</td>\n",
       "    </tr>\n",
       "  </tbody>\n",
       "</table>\n",
       "</div>"
      ],
      "text/plain": [
       "       Release Year               Title  \\\n",
       "10281          1984      Silent Madness   \n",
       "7341           1960  Desire in the Dust   \n",
       "10587          1986         On the Edge   \n",
       "25495          1988           Ram-Avtar   \n",
       "16607          2013       Machete Kills   \n",
       "\n",
       "                                                    Plot           Director  \\\n",
       "10281  computer error lead accidental release homicid...     Simon Nuchtern   \n",
       "7341   lonnie wilson ken scott son sharecropper zuba ...  Robert L. Lippert   \n",
       "10587  gaunt bushy beard year old wes holman return n...        Rob Nilsson   \n",
       "25495  ram avtar childhood best friend difference two...    Sunil Hingorani   \n",
       "16607  machete cortez danny trejo sartana rivera jess...   Robert Rodriguez   \n",
       "\n",
       "                                                    Cast   Genre  Plot Len  \\\n",
       "10281                Belinda Montgomery, Viveca Lindfors  horror       175   \n",
       "7341             Raymond Burr, Martha Hyer, Joan Bennett   drama      1374   \n",
       "10587                              Bruce Dern, Pam Grier   drama       839   \n",
       "25495                   Sunny Deol, Anil Kapoor, Sridevi   drama       857   \n",
       "16607  Danny Trejo, Michelle Rodriguez, Sofía Vergara...  action      4428   \n",
       "\n",
       "                                             Plot Tagged  \n",
       "10281  [(computer, n), (error, n), (leads, v), (accid...  \n",
       "7341   [(lonnie, n), (wilson, n), (ken, v), (scott, a...  \n",
       "10587  [(gaunt, n), (bushy, n), (bearded, v), (year, ...  \n",
       "25495  [(ram, n), (avtar, n), (childhood, n), (best, ...  \n",
       "16607  [(machete, a), (cortez, n), (danny, n), (trejo...  "
      ]
     },
     "execution_count": 21,
     "metadata": {},
     "output_type": "execute_result"
    }
   ],
   "source": [
    "for i in df.index:\n",
    "    df['Plot'][i] = ' '.join([str(elem) for elem in df['Plot'][i]])\n",
    "\n",
    "df.head()\n"
   ]
  },
  {
   "cell_type": "markdown",
   "metadata": {},
   "source": [
    "### Task #5: Split the data into train & test sets:\n",
    "\n",
    "Yes we have a holdout set of the data, but you do not know the genres of that data, so you can't use it to evaluate your models. Therefore you must create your own training and test sets to evaluate your models. "
   ]
  },
  {
   "cell_type": "code",
   "execution_count": 22,
   "metadata": {},
   "outputs": [],
   "source": [
    "features = 'Plot'\n",
    "target = 'Genre'"
   ]
  },
  {
   "cell_type": "code",
   "execution_count": 61,
   "metadata": {},
   "outputs": [],
   "source": [
    "X = df[features]\n",
    "y = df[target]"
   ]
  },
  {
   "cell_type": "code",
   "execution_count": 24,
   "metadata": {},
   "outputs": [],
   "source": [
    "from sklearn.model_selection import train_test_split"
   ]
  },
  {
   "cell_type": "code",
   "execution_count": 25,
   "metadata": {},
   "outputs": [],
   "source": [
    "X_train, X_test, y_train, y_test = train_test_split(X, y, test_size = 0.2, random_state = 24)"
   ]
  },
  {
   "cell_type": "markdown",
   "metadata": {},
   "source": [
    "### Task #6: Build a pipeline to vectorize the data, then train and fit your models.\n",
    "You should train multiple types of models and try different combinations of the tuning parameters for each model to obtain the best one. You can use the SKlearn functions of GridSearchCV and Pipeline to help automate this process.\n"
   ]
  },
  {
   "cell_type": "code",
   "execution_count": 26,
   "metadata": {},
   "outputs": [],
   "source": [
    "import sklearn.metrics\n",
    "from sklearn.naive_bayes import MultinomialNB\n",
    "from sklearn.feature_extraction.text import CountVectorizer, TfidfVectorizer, HashingVectorizer\n",
    "from sklearn.pipeline import Pipeline"
   ]
  },
  {
   "cell_type": "code",
   "execution_count": 27,
   "metadata": {},
   "outputs": [],
   "source": [
    "from sklearn.pipeline import Pipeline"
   ]
  },
  {
   "cell_type": "markdown",
   "metadata": {},
   "source": [
    "#### Pipeline 1"
   ]
  },
  {
   "cell_type": "code",
   "execution_count": 28,
   "metadata": {},
   "outputs": [],
   "source": [
    "pipeline_1 = Pipeline([\n",
    "                       ('vec', CountVectorizer(max_df=0.35, min_df=10)),\n",
    "                       ('mnb', MultinomialNB())\n",
    "                      ])"
   ]
  },
  {
   "cell_type": "code",
   "execution_count": 29,
   "metadata": {},
   "outputs": [
    {
     "data": {
      "text/plain": [
       "Pipeline(steps=[('vec', CountVectorizer(max_df=0.35, min_df=10)),\n",
       "                ('mnb', MultinomialNB())])"
      ]
     },
     "execution_count": 29,
     "metadata": {},
     "output_type": "execute_result"
    }
   ],
   "source": [
    "pipeline_1.fit(X_train, y_train)\n"
   ]
  },
  {
   "cell_type": "code",
   "execution_count": 30,
   "metadata": {},
   "outputs": [
    {
     "data": {
      "text/plain": [
       "0.7343475716793446"
      ]
     },
     "execution_count": 30,
     "metadata": {},
     "output_type": "execute_result"
    }
   ],
   "source": [
    "pipeline_1.score(X_train, y_train)"
   ]
  },
  {
   "cell_type": "code",
   "execution_count": 31,
   "metadata": {},
   "outputs": [
    {
     "data": {
      "text/plain": [
       "<sklearn.metrics._plot.confusion_matrix.ConfusionMatrixDisplay at 0x27d65c5c640>"
      ]
     },
     "execution_count": 31,
     "metadata": {},
     "output_type": "execute_result"
    },
    {
     "data": {
      "image/png": "[encoded data removed]",
      "text/plain": [
       "<Figure size 432x288 with 2 Axes>"
      ]
     },
     "metadata": {
      "needs_background": "light"
     },
     "output_type": "display_data"
    }
   ],
   "source": [
    "from sklearn.metrics import plot_confusion_matrix, classification_report\n",
    "plot_confusion_matrix(pipeline_1, X_test, y_test)"
   ]
  },
  {
   "cell_type": "code",
   "execution_count": 32,
   "metadata": {},
   "outputs": [
    {
     "name": "stdout",
     "output_type": "stream",
     "text": [
      "              precision    recall  f1-score   support\n",
      "\n",
      "      action       0.53      0.52      0.52       172\n",
      "   adventure       0.41      0.66      0.50        68\n",
      "      comedy       0.64      0.61      0.62       530\n",
      "       crime       0.30      0.34      0.32        61\n",
      "       drama       0.69      0.51      0.59       758\n",
      "      horror       0.73      0.78      0.75       187\n",
      "     romance       0.28      0.63      0.38       120\n",
      "    thriller       0.26      0.22      0.24       129\n",
      "     western       0.81      0.93      0.87       112\n",
      "\n",
      "    accuracy                           0.57      2137\n",
      "   macro avg       0.52      0.58      0.53      2137\n",
      "weighted avg       0.60      0.57      0.58      2137\n",
      "\n"
     ]
    }
   ],
   "source": [
    "print(classification_report(y_test, pipeline_1.predict(X_test)))"
   ]
  },
  {
   "cell_type": "markdown",
   "metadata": {},
   "source": [
    "#### Pipeline 2"
   ]
  },
  {
   "cell_type": "code",
   "execution_count": 33,
   "metadata": {},
   "outputs": [],
   "source": [
    "from sklearn.linear_model import LogisticRegression\n"
   ]
  },
  {
   "cell_type": "code",
   "execution_count": 34,
   "metadata": {},
   "outputs": [],
   "source": [
    "pipeline_2 = Pipeline([\n",
    "                       ('vec', TfidfVectorizer(max_df=0.35, min_df=.03)),\n",
    "                       ('lnr', LogisticRegression(random_state = 24, max_iter = 5000))\n",
    "                      ])"
   ]
  },
  {
   "cell_type": "code",
   "execution_count": 35,
   "metadata": {},
   "outputs": [
    {
     "data": {
      "text/plain": [
       "0.6538326506729082"
      ]
     },
     "execution_count": 35,
     "metadata": {},
     "output_type": "execute_result"
    }
   ],
   "source": [
    "pipeline_2.fit(X_train, y_train)\n",
    "pipeline_2.score(X_train, y_train)"
   ]
  },
  {
   "cell_type": "code",
   "execution_count": 36,
   "metadata": {
    "scrolled": false
   },
   "outputs": [
    {
     "data": {
      "text/plain": [
       "<sklearn.metrics._plot.confusion_matrix.ConfusionMatrixDisplay at 0x27d646f4b80>"
      ]
     },
     "execution_count": 36,
     "metadata": {},
     "output_type": "execute_result"
    },
    {
     "data": {
      "image/png": "[encoded data removed]",
      "text/plain": [
       "<Figure size 432x288 with 2 Axes>"
      ]
     },
     "metadata": {
      "needs_background": "light"
     },
     "output_type": "display_data"
    }
   ],
   "source": [
    "plot_confusion_matrix(pipeline_2, X_test, y_test)"
   ]
  },
  {
   "cell_type": "code",
   "execution_count": 37,
   "metadata": {},
   "outputs": [
    {
     "name": "stdout",
     "output_type": "stream",
     "text": [
      "              precision    recall  f1-score   support\n",
      "\n",
      "      action       0.56      0.42      0.48       172\n",
      "   adventure       0.50      0.19      0.28        68\n",
      "      comedy       0.57      0.67      0.61       530\n",
      "       crime       0.47      0.13      0.21        61\n",
      "       drama       0.56      0.74      0.64       758\n",
      "      horror       0.74      0.60      0.66       187\n",
      "     romance       0.40      0.19      0.26       120\n",
      "    thriller       0.37      0.16      0.22       129\n",
      "     western       0.87      0.62      0.72       112\n",
      "\n",
      "    accuracy                           0.58      2137\n",
      "   macro avg       0.56      0.41      0.45      2137\n",
      "weighted avg       0.57      0.58      0.56      2137\n",
      "\n"
     ]
    }
   ],
   "source": [
    "print(classification_report(y_test, pipeline_2.predict(X_test)))"
   ]
  },
  {
   "cell_type": "markdown",
   "metadata": {},
   "source": [
    "#### Implement Grid Search"
   ]
  },
  {
   "cell_type": "code",
   "execution_count": 38,
   "metadata": {
    "scrolled": false
   },
   "outputs": [
    {
     "name": "stdout",
     "output_type": "stream",
     "text": [
      "Fitting 5 folds for each of 30 candidates, totalling 150 fits\n"
     ]
    },
    {
     "name": "stderr",
     "output_type": "stream",
     "text": [
      "[Parallel(n_jobs=-1)]: Using backend LokyBackend with 12 concurrent workers.\n",
      "[Parallel(n_jobs=-1)]: Done  26 tasks      | elapsed:   14.2s\n",
      "[Parallel(n_jobs=-1)]: Done 150 out of 150 | elapsed:   58.2s finished\n"
     ]
    },
    {
     "data": {
      "text/plain": [
       "GridSearchCV(cv=5,\n",
       "             estimator=Pipeline(steps=[('vec',\n",
       "                                        TfidfVectorizer(max_df=0.35,\n",
       "                                                        min_df=0.03)),\n",
       "                                       ('lnr',\n",
       "                                        LogisticRegression(max_iter=5000,\n",
       "                                                           random_state=24))]),\n",
       "             n_jobs=-1,\n",
       "             param_grid={'lnr__class_weight': ['balanced', None],\n",
       "                         'vec__max_df': [0.95, 0.75, 0.55, 0.35, 0.15],\n",
       "                         'vec__min_df': [0.01, 0.05, 0.1]},\n",
       "             scoring='f1_weighted', verbose=1)"
      ]
     },
     "execution_count": 38,
     "metadata": {},
     "output_type": "execute_result"
    }
   ],
   "source": [
    "from sklearn.model_selection import GridSearchCV\n",
    "\n",
    "grid = {'vec__max_df':[0.95, 0.75, 0.55, 0.35, 0.15], \n",
    "        'vec__min_df':[0.01, 0.05, 0.1], \n",
    "        'lnr__class_weight': ['balanced', None]}\n",
    "\n",
    "grid_p2=GridSearchCV(estimator = pipeline_2,\n",
    "                     param_grid = grid,\n",
    "                     cv=5, \n",
    "                     scoring='f1_weighted', \n",
    "                     verbose=1, \n",
    "                     n_jobs=-1)\n",
    "\n",
    "grid_p2.fit(X_train, y_train)\n",
    "\n"
   ]
  },
  {
   "cell_type": "code",
   "execution_count": 39,
   "metadata": {},
   "outputs": [
    {
     "name": "stdout",
     "output_type": "stream",
     "text": [
      "0.5452101326516529\n",
      "{'lnr__class_weight': None, 'vec__max_df': 0.95, 'vec__min_df': 0.01}\n",
      "Pipeline(steps=[('vec', TfidfVectorizer(max_df=0.95, min_df=0.01)),\n",
      "                ('lnr', LogisticRegression(max_iter=5000, random_state=24))])\n",
      "              precision    recall  f1-score   support\n",
      "\n",
      "      action       0.75      0.58      0.66       658\n",
      "   adventure       0.80      0.39      0.53       263\n",
      "      comedy       0.73      0.78      0.76      2194\n",
      "       crime       0.83      0.28      0.42       267\n",
      "       drama       0.65      0.86      0.75      3012\n",
      "      horror       0.85      0.79      0.82       653\n",
      "     romance       0.82      0.41      0.54       529\n",
      "    thriller       0.75      0.33      0.46       556\n",
      "     western       0.92      0.81      0.86       413\n",
      "\n",
      "    accuracy                           0.72      8545\n",
      "   macro avg       0.79      0.58      0.64      8545\n",
      "weighted avg       0.73      0.72      0.70      8545\n",
      "\n",
      "              precision    recall  f1-score   support\n",
      "\n",
      "      action       0.62      0.41      0.49       172\n",
      "   adventure       0.52      0.18      0.26        68\n",
      "      comedy       0.60      0.69      0.64       530\n",
      "       crime       0.55      0.10      0.17        61\n",
      "       drama       0.57      0.78      0.66       758\n",
      "      horror       0.78      0.62      0.69       187\n",
      "     romance       0.47      0.23      0.31       120\n",
      "    thriller       0.39      0.13      0.20       129\n",
      "     western       0.91      0.71      0.80       112\n",
      "\n",
      "    accuracy                           0.60      2137\n",
      "   macro avg       0.60      0.43      0.47      2137\n",
      "weighted avg       0.60      0.60      0.58      2137\n",
      "\n"
     ]
    },
    {
     "data": {
      "image/png": "[encoded data removed]",
      "text/plain": [
       "<Figure size 432x288 with 2 Axes>"
      ]
     },
     "metadata": {
      "needs_background": "light"
     },
     "output_type": "display_data"
    }
   ],
   "source": [
    "print(grid_p2.best_score_)\n",
    "print(grid_p2.best_params_)\n",
    "print(grid_p2.best_estimator_)\n",
    "\n",
    "plot_confusion_matrix(grid_p2, X_test, y_test)\n",
    "\n",
    "print(classification_report(y_train, grid_p2.predict(X_train)))\n",
    "print(classification_report(y_test, grid_p2.predict(X_test)))"
   ]
  },
  {
   "cell_type": "markdown",
   "metadata": {},
   "source": [
    "### Task #7: Run predictions and analyze the results on the test set to identify the best model.  "
   ]
  },
  {
   "cell_type": "code",
   "execution_count": 40,
   "metadata": {},
   "outputs": [],
   "source": [
    "# Included above\n",
    "# Best Model: pipeline_2 with hypterparamenters indictated by GridSearch"
   ]
  },
  {
   "cell_type": "markdown",
   "metadata": {},
   "source": [
    "### Task #8: Refit the model to all of your data and then use that model to predict the holdout set. "
   ]
  },
  {
   "cell_type": "code",
   "execution_count": 41,
   "metadata": {},
   "outputs": [],
   "source": [
    "final_model = Pipeline([\n",
    "                       ('vec', TfidfVectorizer(max_df=0.95, min_df=.01)),\n",
    "                       ('lnr', LogisticRegression(random_state = 24, max_iter = 5000))\n",
    "                      ])"
   ]
  },
  {
   "cell_type": "code",
   "execution_count": 42,
   "metadata": {},
   "outputs": [
    {
     "data": {
      "text/plain": [
       "Pipeline(steps=[('vec', TfidfVectorizer(max_df=0.95, min_df=0.01)),\n",
       "                ('lnr', LogisticRegression(max_iter=5000, random_state=24))])"
      ]
     },
     "execution_count": 42,
     "metadata": {},
     "output_type": "execute_result"
    }
   ],
   "source": [
    "final_model.fit(X, y)"
   ]
  },
  {
   "cell_type": "code",
   "execution_count": 43,
   "metadata": {},
   "outputs": [
    {
     "name": "stdout",
     "output_type": "stream",
     "text": [
      "              precision    recall  f1-score   support\n",
      "\n",
      "      action       0.74      0.60      0.66       830\n",
      "   adventure       0.78      0.40      0.53       331\n",
      "      comedy       0.73      0.78      0.76      2724\n",
      "       crime       0.79      0.28      0.41       328\n",
      "       drama       0.66      0.87      0.75      3770\n",
      "      horror       0.84      0.81      0.82       840\n",
      "     romance       0.77      0.40      0.52       649\n",
      "    thriller       0.76      0.32      0.45       685\n",
      "     western       0.90      0.81      0.85       525\n",
      "\n",
      "    accuracy                           0.72     10682\n",
      "   macro avg       0.77      0.58      0.64     10682\n",
      "weighted avg       0.73      0.72      0.71     10682\n",
      "\n"
     ]
    }
   ],
   "source": [
    "print(classification_report(y, final_model.predict(X)))"
   ]
  },
  {
   "cell_type": "code",
   "execution_count": 44,
   "metadata": {},
   "outputs": [],
   "source": [
    "df_test = pd.read_csv('movie_test.csv', index_col=0)"
   ]
  },
  {
   "cell_type": "code",
   "execution_count": 45,
   "metadata": {},
   "outputs": [
    {
     "name": "stderr",
     "output_type": "stream",
     "text": [
      "<ipython-input-45-a8c0cd8e3cc5>:5: SettingWithCopyWarning: \n",
      "A value is trying to be set on a copy of a slice from a DataFrame\n",
      "\n",
      "See the caveats in the documentation: https://pandas.pydata.org/pandas-docs/stable/user_guide/indexing.html#returning-a-view-versus-a-copy\n",
      "  df_test['Plot'][i] = tokenizer.tokenize(df_test['Plot'][i])\n"
     ]
    }
   ],
   "source": [
    "pattern = \"([a-zA-Z]+(?:'[a-z]+)?)\"\n",
    "tokenizer = RegexpTokenizer(r\"([a-zA-Z]+(?:[’'][a-z]+)?)\")\n",
    "\n",
    "for i in df_test.index:\n",
    "    df_test['Plot'][i] = tokenizer.tokenize(df_test['Plot'][i])"
   ]
  },
  {
   "cell_type": "code",
   "execution_count": 46,
   "metadata": {},
   "outputs": [
    {
     "name": "stderr",
     "output_type": "stream",
     "text": [
      "<ipython-input-46-62f0ef5aa4c6>:5: SettingWithCopyWarning: \n",
      "A value is trying to be set on a copy of a slice from a DataFrame\n",
      "\n",
      "See the caveats in the documentation: https://pandas.pydata.org/pandas-docs/stable/user_guide/indexing.html#returning-a-view-versus-a-copy\n",
      "  df_test['Plot'][i] = [word.lower() for word in df_test['Plot'][i]]\n",
      "<ipython-input-46-62f0ef5aa4c6>:6: SettingWithCopyWarning: \n",
      "A value is trying to be set on a copy of a slice from a DataFrame\n",
      "\n",
      "See the caveats in the documentation: https://pandas.pydata.org/pandas-docs/stable/user_guide/indexing.html#returning-a-view-versus-a-copy\n",
      "  df_test['Plot'][i] = [word for word in df_test['Plot'][i] if word not in sw]\n"
     ]
    }
   ],
   "source": [
    "sw = stopwords.words('english')\n",
    "sw.append('film')\n",
    "\n",
    "for i in df_test.index:\n",
    "    df_test['Plot'][i] = [word.lower() for word in df_test['Plot'][i]]\n",
    "    df_test['Plot'][i] = [word for word in df_test['Plot'][i] if word not in sw]"
   ]
  },
  {
   "cell_type": "code",
   "execution_count": 47,
   "metadata": {},
   "outputs": [],
   "source": [
    "lemmatizer = nltk.stem.WordNetLemmatizer()"
   ]
  },
  {
   "cell_type": "code",
   "execution_count": 48,
   "metadata": {},
   "outputs": [],
   "source": [
    "def get_wordnet_pos(treebank_tag):\n",
    "    '''\n",
    "    Translate nltk POS to wordnet tags\n",
    "    '''\n",
    "    if treebank_tag.startswith('J'):\n",
    "        return wordnet.ADJ\n",
    "    elif treebank_tag.startswith('V'):\n",
    "        return wordnet.VERB\n",
    "    elif treebank_tag.startswith('N'):\n",
    "        return wordnet.NOUN\n",
    "    elif treebank_tag.startswith('R'):\n",
    "        return wordnet.ADV\n",
    "    else:\n",
    "        return wordnet.NOUN"
   ]
  },
  {
   "cell_type": "code",
   "execution_count": 49,
   "metadata": {
    "scrolled": true
   },
   "outputs": [
    {
     "name": "stderr",
     "output_type": "stream",
     "text": [
      "<ipython-input-49-caa3b11c4c13>:4: SettingWithCopyWarning: \n",
      "A value is trying to be set on a copy of a slice from a DataFrame\n",
      "\n",
      "See the caveats in the documentation: https://pandas.pydata.org/pandas-docs/stable/user_guide/indexing.html#returning-a-view-versus-a-copy\n",
      "  df_test['Plot Tagged'][i] = pos_tag(df_test['Plot'][i])\n"
     ]
    }
   ],
   "source": [
    "df_test['Plot Tagged'] = df_test['Plot']\n",
    "\n",
    "for i in df_test.index:\n",
    "    df_test['Plot Tagged'][i] = pos_tag(df_test['Plot'][i])"
   ]
  },
  {
   "cell_type": "code",
   "execution_count": 50,
   "metadata": {},
   "outputs": [
    {
     "name": "stderr",
     "output_type": "stream",
     "text": [
      "<ipython-input-50-fcc44d281368>:2: SettingWithCopyWarning: \n",
      "A value is trying to be set on a copy of a slice from a DataFrame\n",
      "\n",
      "See the caveats in the documentation: https://pandas.pydata.org/pandas-docs/stable/user_guide/indexing.html#returning-a-view-versus-a-copy\n",
      "  df_test['Plot Tagged'][i] = [(word[0], get_wordnet_pos(word[1])) for word in df_test['Plot Tagged'][i]]\n"
     ]
    }
   ],
   "source": [
    "for i in df_test.index:\n",
    "    df_test['Plot Tagged'][i] = [(word[0], get_wordnet_pos(word[1])) for word in df_test['Plot Tagged'][i]]"
   ]
  },
  {
   "cell_type": "code",
   "execution_count": 51,
   "metadata": {},
   "outputs": [
    {
     "name": "stderr",
     "output_type": "stream",
     "text": [
      "<ipython-input-51-6c3a7e5cd93c>:2: SettingWithCopyWarning: \n",
      "A value is trying to be set on a copy of a slice from a DataFrame\n",
      "\n",
      "See the caveats in the documentation: https://pandas.pydata.org/pandas-docs/stable/user_guide/indexing.html#returning-a-view-versus-a-copy\n",
      "  df_test['Plot'][i] = [lemmatizer.lemmatize(word[0], word[1]) for word in df_test['Plot Tagged'][i]]\n"
     ]
    }
   ],
   "source": [
    "for i in df_test.index:\n",
    "    df_test['Plot'][i] = [lemmatizer.lemmatize(word[0], word[1]) for word in df_test['Plot Tagged'][i]]"
   ]
  },
  {
   "cell_type": "code",
   "execution_count": 52,
   "metadata": {},
   "outputs": [
    {
     "name": "stderr",
     "output_type": "stream",
     "text": [
      "<ipython-input-52-eb83e311594c>:2: SettingWithCopyWarning: \n",
      "A value is trying to be set on a copy of a slice from a DataFrame\n",
      "\n",
      "See the caveats in the documentation: https://pandas.pydata.org/pandas-docs/stable/user_guide/indexing.html#returning-a-view-versus-a-copy\n",
      "  df_test['Plot'][i] = ' '.join([str(elem) for elem in df_test['Plot'][i]])\n"
     ]
    }
   ],
   "source": [
    "for i in df_test.index:\n",
    "    df_test['Plot'][i] = ' '.join([str(elem) for elem in df_test['Plot'][i]])"
   ]
  },
  {
   "cell_type": "code",
   "execution_count": 59,
   "metadata": {},
   "outputs": [],
   "source": [
    "features = 'Plot'\n",
    "X_holdout = df_test[features]"
   ]
  },
  {
   "cell_type": "code",
   "execution_count": 60,
   "metadata": {},
   "outputs": [],
   "source": [
    "predictions = final_model.predict(X_holdout)"
   ]
  },
  {
   "cell_type": "markdown",
   "metadata": {},
   "source": [
    "### #9: Save your predictions as a csv file that you will send to the instructional staff for evaluation. "
   ]
  },
  {
   "cell_type": "code",
   "execution_count": 55,
   "metadata": {},
   "outputs": [],
   "source": [
    "answers = pd.DataFrame(predictions)\n",
    "answers.index = df_test.index"
   ]
  },
  {
   "cell_type": "code",
   "execution_count": 56,
   "metadata": {},
   "outputs": [],
   "source": [
    "answers.to_csv('nlp_preds_claredunne.csv', index = True)"
   ]
  },
  {
   "cell_type": "markdown",
   "metadata": {},
   "source": [
    "## Great job!"
   ]
  },
  {
   "cell_type": "code",
   "execution_count": null,
   "metadata": {},
   "outputs": [],
   "source": []
  }
 ],
 "metadata": {
  "kernelspec": {
   "display_name": "Python 3",
   "language": "python",
   "name": "python3"
  },
  "language_info": {
   "codemirror_mode": {
    "name": "ipython",
    "version": 3
   },
   "file_extension": ".py",
   "mimetype": "text/x-python",
   "name": "python",
   "nbconvert_exporter": "python",
   "pygments_lexer": "ipython3",
   "version": "3.8.5"
  }
 },
 "nbformat": 4,
 "nbformat_minor": 2
}
