{
 "cells": [
  {
   "cell_type": "markdown",
   "metadata": {},
   "source": [
    "# Phase 3 Review"
   ]
  },
  {
   "cell_type": "markdown",
   "metadata": {},
   "source": [
    "![review guy](https://media.giphy.com/media/3krrjoL0vHRaWqwU3k/giphy.gif)"
   ]
  },
  {
   "cell_type": "markdown",
   "metadata": {},
   "source": [
    "# TOC \n",
    "\n",
    "1. [Gradient Descent](#grad_desc)\n",
    "2. [Logistic Regression](#logistic)\n",
    "3. [Confusion Matrix](#con_mat)\n",
    "4. [Accuracy/Precision/Recall/F1](#more_metric)\n",
    "5. [auc_roc](#auc_roc)\n",
    "3. [Algos](#algos)"
   ]
  },
  {
   "cell_type": "markdown",
   "metadata": {},
   "source": [
    "<a id='grad_desc'></a>"
   ]
  },
  {
   "cell_type": "markdown",
   "metadata": {},
   "source": [
    "## Gradient Descent"
   ]
  },
  {
   "cell_type": "markdown",
   "metadata": {},
   "source": [
    "Question: What is a loss function? (Explain it in terms of the relationship between true and predicted values) \n"
   ]
  },
  {
   "cell_type": "code",
   "execution_count": 1,
   "metadata": {},
   "outputs": [],
   "source": [
    "# a measure of the descrepancy between the true values and those predicted by the model."
   ]
  },
  {
   "cell_type": "markdown",
   "metadata": {},
   "source": [
    "Question: What loss functions do we know and what types of data work best with each?"
   ]
  },
  {
   "cell_type": "code",
   "execution_count": 2,
   "metadata": {},
   "outputs": [],
   "source": [
    "# MSE - works best for linear regression or continuous data\n",
    "# log loss - works for binary targets (0 and 1)\n",
    "### ridge and lasso are modifications to those loss functions that penalise (?) coefficients "
   ]
  },
  {
   "cell_type": "markdown",
   "metadata": {},
   "source": [
    "To solidify our knowledge of gradient descent, we will use Sklearn's stochastic gradient descent algorithm for regression [SGDRegressor](https://scikit-learn.org/stable/modules/sgd.html#regression).   Sklearn classifiers share many methods and parameters, such as fit/predict, but some have useful additions.  SGDRegressor has a new method called partial_fit, which will allow us to inspect the calculated coefficients after each step of gradient descent.  "
   ]
  },
  {
   "cell_type": "raw",
   "metadata": {},
   "source": [
    "We will use the diabetes dataset for this task.  "
   ]
  },
  {
   "cell_type": "code",
   "execution_count": 3,
   "metadata": {},
   "outputs": [],
   "source": [
    "from sklearn.datasets import load_diabetes\n",
    "import numpy as np\n",
    "\n",
    "data = load_diabetes(as_frame=True)\n",
    "X = data['data']\n",
    "y = data['target']"
   ]
  },
  {
   "cell_type": "code",
   "execution_count": 4,
   "metadata": {},
   "outputs": [
    {
     "data": {
      "text/plain": [
       "(442, 10)"
      ]
     },
     "execution_count": 4,
     "metadata": {},
     "output_type": "execute_result"
    }
   ],
   "source": [
    "X.shape"
   ]
  },
  {
   "cell_type": "code",
   "execution_count": 5,
   "metadata": {},
   "outputs": [
    {
     "data": {
      "text/html": [
       "<div>\n",
       "<style scoped>\n",
       "    .dataframe tbody tr th:only-of-type {\n",
       "        vertical-align: middle;\n",
       "    }\n",
       "\n",
       "    .dataframe tbody tr th {\n",
       "        vertical-align: top;\n",
       "    }\n",
       "\n",
       "    .dataframe thead th {\n",
       "        text-align: right;\n",
       "    }\n",
       "</style>\n",
       "<table border=\"1\" class=\"dataframe\">\n",
       "  <thead>\n",
       "    <tr style=\"text-align: right;\">\n",
       "      <th></th>\n",
       "      <th>age</th>\n",
       "      <th>sex</th>\n",
       "      <th>bmi</th>\n",
       "      <th>bp</th>\n",
       "      <th>s1</th>\n",
       "      <th>s2</th>\n",
       "      <th>s3</th>\n",
       "      <th>s4</th>\n",
       "      <th>s5</th>\n",
       "      <th>s6</th>\n",
       "    </tr>\n",
       "  </thead>\n",
       "  <tbody>\n",
       "    <tr>\n",
       "      <th>0</th>\n",
       "      <td>0.038076</td>\n",
       "      <td>0.050680</td>\n",
       "      <td>0.061696</td>\n",
       "      <td>0.021872</td>\n",
       "      <td>-0.044223</td>\n",
       "      <td>-0.034821</td>\n",
       "      <td>-0.043401</td>\n",
       "      <td>-0.002592</td>\n",
       "      <td>0.019908</td>\n",
       "      <td>-0.017646</td>\n",
       "    </tr>\n",
       "    <tr>\n",
       "      <th>1</th>\n",
       "      <td>-0.001882</td>\n",
       "      <td>-0.044642</td>\n",
       "      <td>-0.051474</td>\n",
       "      <td>-0.026328</td>\n",
       "      <td>-0.008449</td>\n",
       "      <td>-0.019163</td>\n",
       "      <td>0.074412</td>\n",
       "      <td>-0.039493</td>\n",
       "      <td>-0.068330</td>\n",
       "      <td>-0.092204</td>\n",
       "    </tr>\n",
       "    <tr>\n",
       "      <th>2</th>\n",
       "      <td>0.085299</td>\n",
       "      <td>0.050680</td>\n",
       "      <td>0.044451</td>\n",
       "      <td>-0.005671</td>\n",
       "      <td>-0.045599</td>\n",
       "      <td>-0.034194</td>\n",
       "      <td>-0.032356</td>\n",
       "      <td>-0.002592</td>\n",
       "      <td>0.002864</td>\n",
       "      <td>-0.025930</td>\n",
       "    </tr>\n",
       "    <tr>\n",
       "      <th>3</th>\n",
       "      <td>-0.089063</td>\n",
       "      <td>-0.044642</td>\n",
       "      <td>-0.011595</td>\n",
       "      <td>-0.036656</td>\n",
       "      <td>0.012191</td>\n",
       "      <td>0.024991</td>\n",
       "      <td>-0.036038</td>\n",
       "      <td>0.034309</td>\n",
       "      <td>0.022692</td>\n",
       "      <td>-0.009362</td>\n",
       "    </tr>\n",
       "    <tr>\n",
       "      <th>4</th>\n",
       "      <td>0.005383</td>\n",
       "      <td>-0.044642</td>\n",
       "      <td>-0.036385</td>\n",
       "      <td>0.021872</td>\n",
       "      <td>0.003935</td>\n",
       "      <td>0.015596</td>\n",
       "      <td>0.008142</td>\n",
       "      <td>-0.002592</td>\n",
       "      <td>-0.031991</td>\n",
       "      <td>-0.046641</td>\n",
       "    </tr>\n",
       "  </tbody>\n",
       "</table>\n",
       "</div>"
      ],
      "text/plain": [
       "        age       sex       bmi        bp        s1        s2        s3  \\\n",
       "0  0.038076  0.050680  0.061696  0.021872 -0.044223 -0.034821 -0.043401   \n",
       "1 -0.001882 -0.044642 -0.051474 -0.026328 -0.008449 -0.019163  0.074412   \n",
       "2  0.085299  0.050680  0.044451 -0.005671 -0.045599 -0.034194 -0.032356   \n",
       "3 -0.089063 -0.044642 -0.011595 -0.036656  0.012191  0.024991 -0.036038   \n",
       "4  0.005383 -0.044642 -0.036385  0.021872  0.003935  0.015596  0.008142   \n",
       "\n",
       "         s4        s5        s6  \n",
       "0 -0.002592  0.019908 -0.017646  \n",
       "1 -0.039493 -0.068330 -0.092204  \n",
       "2 -0.002592  0.002864 -0.025930  \n",
       "3  0.034309  0.022692 -0.009362  \n",
       "4 -0.002592 -0.031991 -0.046641  "
      ]
     },
     "execution_count": 5,
     "metadata": {},
     "output_type": "execute_result"
    }
   ],
   "source": [
    "X.head()"
   ]
  },
  {
   "cell_type": "code",
   "execution_count": 6,
   "metadata": {},
   "outputs": [],
   "source": [
    "from sklearn.linear_model import SGDRegressor"
   ]
  },
  {
   "cell_type": "code",
   "execution_count": 7,
   "metadata": {},
   "outputs": [],
   "source": [
    "# Instantiate a SGDRegressor object and run partial fit on X and y. For now, pass the argument `penalty=None`"
   ]
  },
  {
   "cell_type": "code",
   "execution_count": 8,
   "metadata": {},
   "outputs": [
    {
     "data": {
      "text/plain": [
       "SGDRegressor(penalty=None, random_state=42)"
      ]
     },
     "execution_count": 8,
     "metadata": {},
     "output_type": "execute_result"
    }
   ],
   "source": [
    "model_1 = SGDRegressor(penalty=None, random_state = 42)\n",
    "model_1.partial_fit(X,y)"
   ]
  },
  {
   "cell_type": "code",
   "execution_count": 9,
   "metadata": {},
   "outputs": [],
   "source": [
    "coef1 = model_1.coef_"
   ]
  },
  {
   "cell_type": "code",
   "execution_count": 10,
   "metadata": {},
   "outputs": [],
   "source": [
    "from sklearn.metrics import mean_squared_error\n",
    "\n",
    "rmse1 = mean_squared_error(y, model_1.predict(X), squared=False)\n",
    "\n",
    "# Import mean_squared_error from metrics, and pass in the true ys, an array of predictions\n",
    "# and the agrument squared = False"
   ]
  },
  {
   "cell_type": "code",
   "execution_count": 11,
   "metadata": {},
   "outputs": [],
   "source": [
    "model_1.partial_fit(X,y)\n",
    "coef2 = model_1.coef_"
   ]
  },
  {
   "cell_type": "code",
   "execution_count": 12,
   "metadata": {},
   "outputs": [],
   "source": [
    "rmse2 = mean_squared_error(y, model_1.predict(X), squared=False)"
   ]
  },
  {
   "cell_type": "markdown",
   "metadata": {},
   "source": [
    "Pick a coefficient, and explain the gradient descent update.\n"
   ]
  },
  {
   "cell_type": "raw",
   "metadata": {},
   "source": [
    "Together, let's plot the trajectory of one coefficient against the loss. "
   ]
  },
  {
   "cell_type": "code",
   "execution_count": 24,
   "metadata": {},
   "outputs": [],
   "source": [
    "model_plot = SGDRegressor(penalty=None, random_state = 42)\n",
    "\n",
    "RMSE = []\n",
    "coef = []\n",
    "i_list = []\n",
    "\n",
    "i = 0\n",
    "while i < 2000:\n",
    "    model_plot.partial_fit(X,y)\n",
    "    RMSE.append(mean_squared_error(y, model_plot.predict(X), squared=False))\n",
    "    coef.append(model_plot.coef_[0])\n",
    "    i_list.append(i)\n",
    "    i+=1"
   ]
  },
  {
   "cell_type": "code",
   "execution_count": 25,
   "metadata": {},
   "outputs": [
    {
     "data": {
      "image/png": "[encoded data removed]",
      "text/plain": [
       "<Figure size 432x288 with 1 Axes>"
      ]
     },
     "metadata": {
      "needs_background": "light"
     },
     "output_type": "display_data"
    }
   ],
   "source": [
    "import matplotlib.pyplot as plt\n",
    "   \n",
    "\n",
    "plt.scatter(RMSE, coef, c = (i_list))\n",
    "plt.title('Coefficient Vs RMSE')\n",
    "plt.xlabel('RMSE')\n",
    "plt.ylabel('Coefficent')\n",
    "plt.ylim([0, 60])\n",
    "plt.xlim([40, 100])\n",
    "plt.show()"
   ]
  },
  {
   "cell_type": "raw",
   "metadata": {},
   "source": [
    "Compare that to a full fit of the SGDRegressor."
   ]
  },
  {
   "cell_type": "code",
   "execution_count": 26,
   "metadata": {},
   "outputs": [
    {
     "name": "stderr",
     "output_type": "stream",
     "text": [
      "C:\\Users\\clare\\anaconda3\\envs\\learn-env\\lib\\site-packages\\sklearn\\linear_model\\_stochastic_gradient.py:1208: ConvergenceWarning: Maximum number of iteration reached before convergence. Consider increasing max_iter to improve the fit.\n",
      "  warnings.warn(\"Maximum number of iteration reached before \"\n"
     ]
    },
    {
     "data": {
      "text/plain": [
       "SGDRegressor(max_iter=2000, penalty=None, random_state=42)"
      ]
     },
     "execution_count": 26,
     "metadata": {},
     "output_type": "execute_result"
    }
   ],
   "source": [
    "model_1 = SGDRegressor(penalty=None, random_state = 42, max_iter=2000)\n",
    "model_1.fit(X,y)"
   ]
  },
  {
   "cell_type": "code",
   "execution_count": 27,
   "metadata": {},
   "outputs": [
    {
     "data": {
      "text/plain": [
       "39.30607387077602"
      ]
     },
     "execution_count": 27,
     "metadata": {},
     "output_type": "execute_result"
    }
   ],
   "source": [
    "model_1.coef_[0]"
   ]
  },
  {
   "cell_type": "code",
   "execution_count": 28,
   "metadata": {},
   "outputs": [
    {
     "data": {
      "text/plain": [
       "55.623507434594956"
      ]
     },
     "execution_count": 28,
     "metadata": {},
     "output_type": "execute_result"
    }
   ],
   "source": [
    "rmse_1 = mean_squared_error(y, model_1.predict(X), squared=False)\n",
    "rmse_1"
   ]
  },
  {
   "cell_type": "markdown",
   "metadata": {},
   "source": [
    "<a id='logistic'></a>"
   ]
  },
  {
   "cell_type": "markdown",
   "metadata": {},
   "source": [
    "# Logistic Regression and Modeling"
   ]
  },
  {
   "cell_type": "markdown",
   "metadata": {},
   "source": [
    "What type of target do we feed the logistic regression model?"
   ]
  },
  {
   "cell_type": "code",
   "execution_count": 31,
   "metadata": {},
   "outputs": [],
   "source": [
    "# categorical binary"
   ]
  },
  {
   "cell_type": "code",
   "execution_count": 32,
   "metadata": {},
   "outputs": [],
   "source": [
    "from sklearn.datasets import load_breast_cancer\n",
    "data = load_breast_cancer(as_frame=True)\n",
    "X = data['data']\n",
    "y = data['target']"
   ]
  },
  {
   "cell_type": "code",
   "execution_count": 33,
   "metadata": {},
   "outputs": [],
   "source": [
    "from sklearn.model_selection import train_test_split\n",
    "\n",
    "X_train, X_test, y_train, y_test = train_test_split(X, y, random_state=42)"
   ]
  },
  {
   "cell_type": "markdown",
   "metadata": {},
   "source": [
    "Question: What is the purpose of train/test split?  \n"
   ]
  },
  {
   "cell_type": "code",
   "execution_count": 63,
   "metadata": {},
   "outputs": [],
   "source": [
    "# to fit the model to one set and then see its performance on unseen data"
   ]
  },
  {
   "cell_type": "markdown",
   "metadata": {},
   "source": [
    "Question: Why should we never fit to the test portion of our dataset?"
   ]
  },
  {
   "cell_type": "code",
   "execution_count": 35,
   "metadata": {},
   "outputs": [],
   "source": [
    "# becasue then you can't compare loss functions between train and test to determine overfitting. "
   ]
  },
  {
   "cell_type": "code",
   "execution_count": 36,
   "metadata": {},
   "outputs": [],
   "source": [
    "from sklearn.preprocessing import StandardScaler\n",
    "\n",
    "# Scale the training set using a standard scaler\n",
    "ss = StandardScaler()\n",
    "X_train_scaled = ss.fit_transform(X_train)"
   ]
  },
  {
   "cell_type": "code",
   "execution_count": 39,
   "metadata": {},
   "outputs": [],
   "source": [
    "import pandas as pd"
   ]
  },
  {
   "cell_type": "code",
   "execution_count": 43,
   "metadata": {},
   "outputs": [
    {
     "data": {
      "text/html": [
       "<div>\n",
       "<style scoped>\n",
       "    .dataframe tbody tr th:only-of-type {\n",
       "        vertical-align: middle;\n",
       "    }\n",
       "\n",
       "    .dataframe tbody tr th {\n",
       "        vertical-align: top;\n",
       "    }\n",
       "\n",
       "    .dataframe thead th {\n",
       "        text-align: right;\n",
       "    }\n",
       "</style>\n",
       "<table border=\"1\" class=\"dataframe\">\n",
       "  <thead>\n",
       "    <tr style=\"text-align: right;\">\n",
       "      <th></th>\n",
       "      <th>0</th>\n",
       "      <th>1</th>\n",
       "      <th>2</th>\n",
       "      <th>3</th>\n",
       "      <th>4</th>\n",
       "      <th>5</th>\n",
       "      <th>6</th>\n",
       "      <th>7</th>\n",
       "      <th>8</th>\n",
       "      <th>9</th>\n",
       "      <th>...</th>\n",
       "      <th>20</th>\n",
       "      <th>21</th>\n",
       "      <th>22</th>\n",
       "      <th>23</th>\n",
       "      <th>24</th>\n",
       "      <th>25</th>\n",
       "      <th>26</th>\n",
       "      <th>27</th>\n",
       "      <th>28</th>\n",
       "      <th>29</th>\n",
       "    </tr>\n",
       "  </thead>\n",
       "  <tbody>\n",
       "    <tr>\n",
       "      <th>0</th>\n",
       "      <td>-0.349138</td>\n",
       "      <td>-1.438513</td>\n",
       "      <td>-0.411726</td>\n",
       "      <td>-0.390479</td>\n",
       "      <td>-1.863662</td>\n",
       "      <td>-1.268607</td>\n",
       "      <td>-0.826171</td>\n",
       "      <td>-0.952866</td>\n",
       "      <td>-1.729368</td>\n",
       "      <td>-0.941541</td>\n",
       "      <td>...</td>\n",
       "      <td>-0.542685</td>\n",
       "      <td>-1.655655</td>\n",
       "      <td>-0.589864</td>\n",
       "      <td>-0.525560</td>\n",
       "      <td>-1.510669</td>\n",
       "      <td>-0.891500</td>\n",
       "      <td>-0.750217</td>\n",
       "      <td>-0.916711</td>\n",
       "      <td>-0.925086</td>\n",
       "      <td>-0.808411</td>\n",
       "    </tr>\n",
       "    <tr>\n",
       "      <th>1</th>\n",
       "      <td>-0.204687</td>\n",
       "      <td>0.312640</td>\n",
       "      <td>-0.133673</td>\n",
       "      <td>-0.275880</td>\n",
       "      <td>1.078073</td>\n",
       "      <td>0.863546</td>\n",
       "      <td>0.726314</td>\n",
       "      <td>0.898441</td>\n",
       "      <td>1.178770</td>\n",
       "      <td>1.474377</td>\n",
       "      <td>...</td>\n",
       "      <td>0.041487</td>\n",
       "      <td>0.689899</td>\n",
       "      <td>0.194128</td>\n",
       "      <td>-0.051934</td>\n",
       "      <td>1.129415</td>\n",
       "      <td>0.923942</td>\n",
       "      <td>1.222217</td>\n",
       "      <td>1.436560</td>\n",
       "      <td>1.149559</td>\n",
       "      <td>1.569111</td>\n",
       "    </tr>\n",
       "    <tr>\n",
       "      <th>2</th>\n",
       "      <td>-0.329312</td>\n",
       "      <td>-0.215072</td>\n",
       "      <td>-0.317394</td>\n",
       "      <td>-0.364357</td>\n",
       "      <td>-1.579880</td>\n",
       "      <td>-0.457451</td>\n",
       "      <td>-0.597310</td>\n",
       "      <td>-0.764588</td>\n",
       "      <td>0.275343</td>\n",
       "      <td>-0.501024</td>\n",
       "      <td>...</td>\n",
       "      <td>-0.435901</td>\n",
       "      <td>-0.148985</td>\n",
       "      <td>-0.320159</td>\n",
       "      <td>-0.446032</td>\n",
       "      <td>-1.634396</td>\n",
       "      <td>-0.106752</td>\n",
       "      <td>-0.539891</td>\n",
       "      <td>-0.723713</td>\n",
       "      <td>0.534970</td>\n",
       "      <td>-0.619348</td>\n",
       "    </tr>\n",
       "    <tr>\n",
       "      <th>3</th>\n",
       "      <td>1.027403</td>\n",
       "      <td>2.089824</td>\n",
       "      <td>1.046922</td>\n",
       "      <td>0.917584</td>\n",
       "      <td>0.316303</td>\n",
       "      <td>0.562037</td>\n",
       "      <td>1.048527</td>\n",
       "      <td>0.930437</td>\n",
       "      <td>-0.325697</td>\n",
       "      <td>-0.477474</td>\n",
       "      <td>...</td>\n",
       "      <td>1.113515</td>\n",
       "      <td>2.165006</td>\n",
       "      <td>1.165793</td>\n",
       "      <td>0.997696</td>\n",
       "      <td>0.383604</td>\n",
       "      <td>0.860948</td>\n",
       "      <td>1.872819</td>\n",
       "      <td>1.310691</td>\n",
       "      <td>0.152884</td>\n",
       "      <td>0.421636</td>\n",
       "    </tr>\n",
       "    <tr>\n",
       "      <th>4</th>\n",
       "      <td>1.828969</td>\n",
       "      <td>0.696001</td>\n",
       "      <td>1.763681</td>\n",
       "      <td>1.783821</td>\n",
       "      <td>-0.333674</td>\n",
       "      <td>0.628175</td>\n",
       "      <td>0.974660</td>\n",
       "      <td>1.265740</td>\n",
       "      <td>-0.131572</td>\n",
       "      <td>-1.713139</td>\n",
       "      <td>...</td>\n",
       "      <td>1.471556</td>\n",
       "      <td>0.387568</td>\n",
       "      <td>1.556276</td>\n",
       "      <td>1.385595</td>\n",
       "      <td>-0.577759</td>\n",
       "      <td>0.296680</td>\n",
       "      <td>0.595768</td>\n",
       "      <td>1.232995</td>\n",
       "      <td>0.050452</td>\n",
       "      <td>-1.406351</td>\n",
       "    </tr>\n",
       "  </tbody>\n",
       "</table>\n",
       "<p>5 rows × 30 columns</p>\n",
       "</div>"
      ],
      "text/plain": [
       "         0         1         2         3         4         5         6   \\\n",
       "0 -0.349138 -1.438513 -0.411726 -0.390479 -1.863662 -1.268607 -0.826171   \n",
       "1 -0.204687  0.312640 -0.133673 -0.275880  1.078073  0.863546  0.726314   \n",
       "2 -0.329312 -0.215072 -0.317394 -0.364357 -1.579880 -0.457451 -0.597310   \n",
       "3  1.027403  2.089824  1.046922  0.917584  0.316303  0.562037  1.048527   \n",
       "4  1.828969  0.696001  1.763681  1.783821 -0.333674  0.628175  0.974660   \n",
       "\n",
       "         7         8         9   ...        20        21        22        23  \\\n",
       "0 -0.952866 -1.729368 -0.941541  ... -0.542685 -1.655655 -0.589864 -0.525560   \n",
       "1  0.898441  1.178770  1.474377  ...  0.041487  0.689899  0.194128 -0.051934   \n",
       "2 -0.764588  0.275343 -0.501024  ... -0.435901 -0.148985 -0.320159 -0.446032   \n",
       "3  0.930437 -0.325697 -0.477474  ...  1.113515  2.165006  1.165793  0.997696   \n",
       "4  1.265740 -0.131572 -1.713139  ...  1.471556  0.387568  1.556276  1.385595   \n",
       "\n",
       "         24        25        26        27        28        29  \n",
       "0 -1.510669 -0.891500 -0.750217 -0.916711 -0.925086 -0.808411  \n",
       "1  1.129415  0.923942  1.222217  1.436560  1.149559  1.569111  \n",
       "2 -1.634396 -0.106752 -0.539891 -0.723713  0.534970 -0.619348  \n",
       "3  0.383604  0.860948  1.872819  1.310691  0.152884  0.421636  \n",
       "4 -0.577759  0.296680  0.595768  1.232995  0.050452 -1.406351  \n",
       "\n",
       "[5 rows x 30 columns]"
      ]
     },
     "execution_count": 43,
     "metadata": {},
     "output_type": "execute_result"
    }
   ],
   "source": [
    "pd.DataFrame(X_train_scaled).head()"
   ]
  },
  {
   "cell_type": "markdown",
   "metadata": {},
   "source": [
    "Question: Why is scaling our data important? For part of your answer, relate to one of the advantages of logistic regression over another classifier."
   ]
  },
  {
   "cell_type": "code",
   "execution_count": null,
   "metadata": {},
   "outputs": [],
   "source": [
    "#if you use a penalty term (ridge or lasso), coefficients will be\n",
    "#penalised based on their size, which is related to the scale of the feature, \n",
    "#if it hasn't been scaled\n",
    "\n",
    "# because it allows you to interpret the importance of the coefficients like for like, \n",
    "# logistic regression develops coefficients for features, rather than just dividing and dubdiving\n",
    "# the data like a decision tree would"
   ]
  },
  {
   "cell_type": "code",
   "execution_count": null,
   "metadata": {},
   "outputs": [],
   "source": [
    "# fit model with logistic regression to the appropriate portion of our dataset"
   ]
  },
  {
   "cell_type": "code",
   "execution_count": 65,
   "metadata": {},
   "outputs": [
    {
     "data": {
      "text/plain": [
       "LogisticRegression(random_state=42)"
      ]
     },
     "execution_count": 65,
     "metadata": {},
     "output_type": "execute_result"
    }
   ],
   "source": [
    "from sklearn.linear_model import LogisticRegression\n",
    "\n",
    "lr = LogisticRegression(random_state = 42)\n",
    "lr.fit(X_train_scaled, y_train)"
   ]
  },
  {
   "cell_type": "markdown",
   "metadata": {},
   "source": [
    "Now that we have fit our classifier, the object `lr` has been filled up with information about the best fit parameters.  Take a look at the coefficients held in the `lr` object.  Interpret what their magnitudes mean."
   ]
  },
  {
   "cell_type": "code",
   "execution_count": 66,
   "metadata": {},
   "outputs": [
    {
     "data": {
      "text/plain": [
       "array([[-0.39751679, -0.41535774, -0.34832129, -0.45142016, -0.20791905,\n",
       "         0.62039231, -0.73558933, -1.09376305,  0.23601875,  0.08357971,\n",
       "        -1.28501592,  0.22136641, -0.58858571, -0.89527827, -0.19689721,\n",
       "         0.63403697, -0.14135554, -0.40058728,  0.5262862 ,  0.73327971,\n",
       "        -0.84378886, -1.29571675, -0.51790962, -0.82723207, -0.53895662,\n",
       "         0.12288567, -1.00748469, -0.76642547, -1.21963558, -0.14580732]])"
      ]
     },
     "execution_count": 66,
     "metadata": {},
     "output_type": "execute_result"
    }
   ],
   "source": [
    "lr.coef_"
   ]
  },
  {
   "cell_type": "code",
   "execution_count": 69,
   "metadata": {},
   "outputs": [
    {
     "data": {
      "image/png": "[encoded data removed]",
      "text/plain": [
       "<Figure size 720x720 with 1 Axes>"
      ]
     },
     "metadata": {
      "needs_background": "light"
     },
     "output_type": "display_data"
    }
   ],
   "source": [
    "fig, ax = plt.subplots(figsize = (10,10))\n",
    "ax.barh(X.columns, lr.coef_[0])\n",
    "ax.tick_params(axis = 'x')"
   ]
  },
  {
   "cell_type": "code",
   "execution_count": 46,
   "metadata": {},
   "outputs": [],
   "source": [
    "# larger coefficients tell us that those features are more relevant to the prediction"
   ]
  },
  {
   "cell_type": "markdown",
   "metadata": {},
   "source": [
    "Logistic regression has a predict method just like linear regression.  Use the predict method to generate a set of predictions (y_hat_train) for the training set."
   ]
  },
  {
   "cell_type": "code",
   "execution_count": 47,
   "metadata": {},
   "outputs": [],
   "source": [
    "# use predict to generate a set of predictions\n",
    "y_hat_train = lr.predict(X_train_scaled)"
   ]
  },
  {
   "cell_type": "markdown",
   "metadata": {},
   "source": [
    "<a id='con_mat'></a>"
   ]
  },
  {
   "cell_type": "markdown",
   "metadata": {},
   "source": [
    "### Confusion Matrix"
   ]
  },
  {
   "cell_type": "markdown",
   "metadata": {},
   "source": [
    "Confusion matrices are a great way to visualize the performance of our classifiers. "
   ]
  },
  {
   "cell_type": "markdown",
   "metadata": {},
   "source": [
    "Question: What does a good confusion matrix look like?"
   ]
  },
  {
   "cell_type": "code",
   "execution_count": null,
   "metadata": {},
   "outputs": [],
   "source": [
    "# a good confusion matrix has predicted values on the x axis and true values on the y axis\n",
    "# the diagonal line from top left to bottom right is the true positives and should have larger\n",
    "# numbers in those cells and smaller otherwise.\n"
   ]
  },
  {
   "cell_type": "code",
   "execution_count": 54,
   "metadata": {},
   "outputs": [
    {
     "data": {
      "text/plain": [
       "<sklearn.metrics._plot.confusion_matrix.ConfusionMatrixDisplay at 0x22717701a00>"
      ]
     },
     "execution_count": 54,
     "metadata": {},
     "output_type": "execute_result"
    },
    {
     "data": {
      "image/png": "[encoded data removed]",
      "text/plain": [
       "<Figure size 432x288 with 2 Axes>"
      ]
     },
     "metadata": {
      "needs_background": "light"
     },
     "output_type": "display_data"
    }
   ],
   "source": [
    "from sklearn.metrics import plot_confusion_matrix\n",
    "\n",
    "plot_confusion_matrix(lr, X_train_scaled, y_train)\n"
   ]
  },
  {
   "cell_type": "markdown",
   "metadata": {},
   "source": [
    "<a id='more_metrics'></a>"
   ]
  },
  {
   "cell_type": "markdown",
   "metadata": {},
   "source": [
    "## Accuracy/Precision/Recall/F_1 Score"
   ]
  },
  {
   "cell_type": "markdown",
   "metadata": {},
   "source": [
    "We have a bunch of additional metrics, most of which we can figure out from the CM"
   ]
  },
  {
   "cell_type": "markdown",
   "metadata": {},
   "source": [
    "Question: Define accuracy. What is the accuracy score of our classifier?"
   ]
  },
  {
   "cell_type": "code",
   "execution_count": null,
   "metadata": {},
   "outputs": [],
   "source": [
    "tn = confusion_matrix(y_train, y_hat_train)[0,0]\n",
    "tp = confusion_matrix(y_train, y_hat_train)[1,1]\n",
    "fp = confusion_matrix(y_train, y_hat_train)[0,1]\n",
    "fn = confusion_matrix(y_train, y_hat_train)[1,0]"
   ]
  },
  {
   "cell_type": "code",
   "execution_count": null,
   "metadata": {},
   "outputs": [],
   "source": [
    "# accuracy is the percentage of points for whom you have correctly identified the class\n",
    "# acc = (TP + TN) / (total data points)"
   ]
  },
  {
   "cell_type": "code",
   "execution_count": 58,
   "metadata": {},
   "outputs": [
    {
     "data": {
      "text/plain": [
       "0.9859154929577465"
      ]
     },
     "execution_count": 58,
     "metadata": {},
     "output_type": "execute_result"
    }
   ],
   "source": [
    "from sklearn.metrics import accuracy_score\n",
    "\n",
    "accuracy_score(y_train, y_hat_train)\n"
   ]
  },
  {
   "cell_type": "markdown",
   "metadata": {},
   "source": [
    "Question: Why might accuracy fail to be a good representation of the quality of a classifier?"
   ]
  },
  {
   "cell_type": "code",
   "execution_count": null,
   "metadata": {},
   "outputs": [],
   "source": [
    "# given a class imbalance, the accuracy may be high for the majority class and overwhelm\n",
    "# the minuority class false negatives"
   ]
  },
  {
   "cell_type": "markdown",
   "metadata": {},
   "source": [
    "Question: Define recall. What is the recall score of our classifier?"
   ]
  },
  {
   "cell_type": "code",
   "execution_count": null,
   "metadata": {},
   "outputs": [],
   "source": [
    "#how many positives you correctly identified\n",
    "\n",
    "# recall = (TP / (TP + FN))"
   ]
  },
  {
   "cell_type": "code",
   "execution_count": 59,
   "metadata": {},
   "outputs": [
    {
     "data": {
      "text/plain": [
       "0.9925373134328358"
      ]
     },
     "execution_count": 59,
     "metadata": {},
     "output_type": "execute_result"
    }
   ],
   "source": [
    "from sklearn.metrics import recall_score\n",
    "\n",
    "recall_score(y_train, y_hat_train)"
   ]
  },
  {
   "cell_type": "markdown",
   "metadata": {},
   "source": [
    "Question: Define precision? What is the precision score of our classifier?"
   ]
  },
  {
   "cell_type": "code",
   "execution_count": 60,
   "metadata": {},
   "outputs": [],
   "source": [
    "# how many of the identified positives are true\n",
    "\n",
    "# precision = (TP / (TP + FP))"
   ]
  },
  {
   "cell_type": "code",
   "execution_count": 61,
   "metadata": {},
   "outputs": [
    {
     "data": {
      "text/plain": [
       "0.9851851851851852"
      ]
     },
     "execution_count": 61,
     "metadata": {},
     "output_type": "execute_result"
    }
   ],
   "source": [
    "from sklearn.metrics import precision_score\n",
    "\n",
    "precision_score(y_train, y_hat_train)"
   ]
  },
  {
   "cell_type": "markdown",
   "metadata": {},
   "source": [
    "Question: Define f1 score? What is the f1 score score of our classifier?"
   ]
  },
  {
   "cell_type": "code",
   "execution_count": 62,
   "metadata": {},
   "outputs": [
    {
     "data": {
      "text/plain": [
       "0.9888475836431226"
      ]
     },
     "execution_count": 62,
     "metadata": {},
     "output_type": "execute_result"
    }
   ],
   "source": [
    "#weighted average of precision and recall\n",
    "# F1_score = 2 * recall * precision / (recall + precision)\n",
    "\n",
    "from sklearn.metrics import f1_score\n",
    "\n",
    "f1_score(y_train, y_hat_train)"
   ]
  },
  {
   "cell_type": "markdown",
   "metadata": {},
   "source": [
    "<a id='auc_roc'></a>"
   ]
  },
  {
   "cell_type": "code",
   "execution_count": 71,
   "metadata": {},
   "outputs": [
    {
     "name": "stdout",
     "output_type": "stream",
     "text": [
      "              precision    recall  f1-score   support\n",
      "\n",
      "           0       0.99      0.97      0.98       158\n",
      "           1       0.99      0.99      0.99       268\n",
      "\n",
      "    accuracy                           0.99       426\n",
      "   macro avg       0.99      0.98      0.98       426\n",
      "weighted avg       0.99      0.99      0.99       426\n",
      "\n"
     ]
    }
   ],
   "source": [
    "from sklearn.metrics import classification_report\n",
    "\n",
    "print(classification_report(y_train, y_hat_train))"
   ]
  },
  {
   "cell_type": "markdown",
   "metadata": {},
   "source": [
    "## Auc_Roc"
   ]
  },
  {
   "cell_type": "markdown",
   "metadata": {},
   "source": [
    "The AUC_ROC curve can't be deduced from the confusion matrix.  Describe what the AUC_ROC curve shows. \n",
    "Look [here](https://towardsdatascience.com/understanding-auc-roc-curve-68b2303cc9c5) for some nice visualizations of AUC_ROC."
   ]
  },
  {
   "cell_type": "raw",
   "metadata": {},
   "source": [
    "Describe the AUC_ROC curve.  What does a good AUC_ROC curve look like? What is a good AUC_ROC score?"
   ]
  },
  {
   "cell_type": "code",
   "execution_count": null,
   "metadata": {},
   "outputs": [],
   "source": [
    "#true positive rate v. false positive rate - helps to visualise amount of TP and FP with changing threshold\n",
    "#default threshold is 0.5\n",
    "#a good curve has as much area underneath as possible\n",
    "#a good AUC_ROC score is approaching one, randomly guessing gets you 0.5"
   ]
  },
  {
   "cell_type": "markdown",
   "metadata": {},
   "source": [
    "One of the advantages of logistic regression is that it generates a set of probabilities associated with each prediction.  What is the default threshold?  How would decrease or increasing your threshold affect true positive and false positive rates?"
   ]
  },
  {
   "cell_type": "markdown",
   "metadata": {},
   "source": [
    "\n",
    "For our scaled X_train, generate an array of probabilities associated with the probability of the positive class."
   ]
  },
  {
   "cell_type": "code",
   "execution_count": 75,
   "metadata": {},
   "outputs": [
    {
     "data": {
      "text/plain": [
       "array([9.99968681e-01, 2.86372729e-03, 9.99269608e-01, 3.72508743e-06,\n",
       "       1.56225670e-06, 3.12407064e-01, 9.99821120e-01, 5.70673632e-02,\n",
       "       9.99859132e-01, 9.99990745e-01, 9.75398786e-01, 9.99178294e-01,\n",
       "       6.18453263e-13, 1.13427902e-04, 9.99964009e-01, 9.90780240e-01,\n",
       "       9.99982238e-01, 9.99999939e-01, 9.99567184e-01, 9.99815711e-01,\n",
       "       9.97570884e-01, 7.33803170e-02, 9.99036228e-01, 9.99105247e-01,\n",
       "       6.83299028e-01, 9.99979683e-01, 1.74319982e-02, 9.81099838e-01,\n",
       "       9.98772191e-01, 9.99150500e-01, 9.26665623e-01, 9.97609453e-01,\n",
       "       9.66511224e-01, 1.20477289e-01, 9.63918963e-01, 9.97954196e-01,\n",
       "       9.81301874e-01, 9.16866033e-01, 9.26851529e-01, 9.99556534e-01,\n",
       "       1.11925633e-02, 1.92824524e-04, 4.27388391e-02, 4.92050840e-01,\n",
       "       9.28192270e-01, 6.31052182e-03, 9.99001091e-01, 2.32228401e-07,\n",
       "       9.90446033e-01, 9.98741496e-01, 9.99981203e-01, 9.99405499e-01,\n",
       "       3.23840169e-02, 7.72854562e-01, 9.99907632e-01, 1.28940353e-06,\n",
       "       9.99888585e-01, 9.94191644e-01, 9.99773131e-01, 1.97749525e-07,\n",
       "       9.97961564e-01, 7.30704357e-08, 4.99824817e-07, 9.99855756e-01,\n",
       "       9.98451394e-01, 8.95755797e-01, 2.82060525e-02, 9.99942911e-01,\n",
       "       9.99980201e-01, 9.99718171e-01, 9.99995017e-01, 2.73467924e-03,\n",
       "       9.99934318e-01, 9.98844112e-01, 9.99996553e-01, 9.99832979e-01,\n",
       "       9.99984941e-01, 4.23801883e-03, 8.90508368e-01, 2.45478133e-08,\n",
       "       1.41766671e-05, 9.95312337e-01, 9.98861009e-01, 4.39354932e-09,\n",
       "       9.96842264e-01, 9.99999485e-01, 9.70993120e-01, 9.86634644e-01,\n",
       "       9.43187226e-01, 9.98402819e-01, 9.98478506e-01, 1.71641041e-01,\n",
       "       2.47545977e-03, 1.03984997e-12, 9.99969995e-01, 9.86587243e-01,\n",
       "       3.14427713e-08, 9.96356973e-01, 9.97399797e-01, 3.87054546e-04,\n",
       "       9.95988148e-01, 5.19045685e-02, 9.99997592e-01, 2.25526395e-06,\n",
       "       9.99183188e-01, 5.79183104e-01, 9.99212725e-01, 7.46566593e-01,\n",
       "       3.29996443e-03, 9.92533324e-01, 9.99857836e-01, 9.67310448e-01,\n",
       "       6.84704408e-04, 9.91643722e-01, 5.84589423e-06, 7.76786395e-01,\n",
       "       3.63103206e-04, 9.98767371e-01, 1.95294072e-02, 9.99908667e-01,\n",
       "       6.84661699e-01, 1.40420717e-04, 9.12778878e-01, 9.99999511e-01,\n",
       "       9.99822778e-01, 9.99510941e-01, 1.13294366e-01, 8.79644183e-01,\n",
       "       9.98518264e-01, 9.98086105e-01, 4.30011261e-07, 6.77774126e-01,\n",
       "       9.96496513e-01, 1.64974681e-02, 9.69407396e-01, 9.99977050e-01,\n",
       "       8.52081541e-08, 9.99294313e-01, 9.99918884e-01, 9.97619277e-01,\n",
       "       9.93877815e-01, 9.97562549e-01, 9.27637732e-01, 9.99951015e-01,\n",
       "       2.14220048e-03, 9.99494483e-01, 9.73354570e-01, 9.88123626e-01,\n",
       "       1.01623149e-01, 9.99985678e-01, 1.30617052e-05, 6.18206440e-01,\n",
       "       9.56918516e-01, 9.99410009e-01, 2.50180856e-02, 9.99875513e-01,\n",
       "       3.50735734e-03, 1.19342767e-06, 9.99966834e-01, 9.87572691e-01,\n",
       "       6.59714729e-04, 9.99868146e-01, 3.84144406e-03, 3.57084957e-02,\n",
       "       9.91465464e-01, 9.80250290e-01, 9.99145433e-01, 8.09174307e-01,\n",
       "       1.50556505e-01, 9.93889283e-01, 9.99997880e-01, 1.13404724e-04,\n",
       "       9.98704745e-01, 1.40300547e-01, 9.67967429e-01, 9.95215895e-01,\n",
       "       9.55894004e-01, 7.70952351e-13, 9.71993903e-01, 3.14687044e-10,\n",
       "       9.99733632e-01, 9.81249416e-01, 1.37994549e-06, 6.73143603e-07,\n",
       "       9.99966791e-01, 9.99155558e-01, 1.96721757e-05, 9.94586667e-01,\n",
       "       8.67379667e-06, 1.11843242e-10, 9.99964756e-01, 6.88391807e-10,\n",
       "       7.51411615e-10, 9.97676941e-01, 9.63779544e-01, 4.97285220e-05,\n",
       "       1.43173405e-05, 5.32162092e-10, 9.85172425e-01, 9.99928612e-01,\n",
       "       9.98511271e-01, 9.99007528e-01, 1.97737160e-03, 9.98220620e-01,\n",
       "       1.04507468e-03, 1.12129190e-08, 2.53794620e-06, 3.65153278e-01,\n",
       "       9.99985113e-01, 9.96969735e-01, 9.10193636e-01, 9.69952165e-01,\n",
       "       9.90181113e-01, 9.93394413e-01, 9.99875856e-01, 9.82715477e-01,\n",
       "       4.42263204e-05, 3.41220857e-06, 9.62879958e-01, 9.99958946e-01,\n",
       "       2.05674092e-06, 9.98752633e-01, 9.96644038e-01, 9.99999534e-01,\n",
       "       9.99547138e-01, 9.99989070e-01, 2.21863377e-06, 9.99875350e-01,\n",
       "       9.96517141e-01, 3.94022305e-08, 9.03927595e-04, 9.97696197e-01,\n",
       "       2.09287170e-01, 9.84924420e-01, 5.19765585e-08, 9.84073188e-01,\n",
       "       9.93696350e-01, 9.99296018e-01, 9.99745879e-01, 9.98917183e-01,\n",
       "       9.77777494e-01, 3.83835597e-04, 9.99978569e-01, 9.04119321e-01,\n",
       "       1.41404257e-03, 9.47480873e-01, 9.99934065e-01, 9.99863386e-01,\n",
       "       9.99827386e-01, 9.94708144e-01, 7.35236138e-01, 5.46565088e-06,\n",
       "       8.63664692e-01, 9.41369264e-01, 6.10806554e-02, 9.88672521e-01,\n",
       "       3.72454873e-03, 3.49987223e-02, 1.57350492e-05, 9.61238060e-01,\n",
       "       4.38238925e-03, 9.73437789e-01, 9.99946234e-01, 4.24671091e-04,\n",
       "       3.56182317e-05, 4.56719689e-06, 9.98872909e-01, 9.99329493e-01,\n",
       "       9.90138425e-01, 9.98387152e-01, 8.34746036e-01, 9.91170725e-01,\n",
       "       9.95320149e-01, 5.01606616e-06, 9.98885357e-01, 9.90688412e-01,\n",
       "       9.73926443e-01, 1.73098929e-03, 9.99745170e-01, 9.99714700e-01,\n",
       "       3.73190681e-02, 1.44385735e-01, 9.99940770e-01, 7.72705558e-04,\n",
       "       9.99815304e-01, 1.51707597e-05, 5.47591470e-06, 9.99974410e-01,\n",
       "       9.99383139e-01, 2.42999440e-06, 9.95228376e-01, 1.17095816e-04,\n",
       "       2.34641484e-07, 9.99297899e-01, 2.61552442e-03, 3.35068411e-02,\n",
       "       9.99966785e-01, 9.61106343e-01, 1.62269439e-01, 9.97760107e-01,\n",
       "       6.82088762e-02, 9.99151520e-01, 9.90517942e-01, 3.69073115e-01,\n",
       "       9.99774799e-01, 8.91496869e-01, 6.94973548e-03, 2.25620585e-06,\n",
       "       1.04817245e-07, 9.93098173e-01, 9.99941777e-01, 9.40141781e-01,\n",
       "       2.59590562e-05, 1.35939262e-04, 9.99057445e-01, 1.96257510e-04,\n",
       "       6.08714323e-07, 9.97074410e-01, 9.99452321e-01, 9.99670798e-01,\n",
       "       1.18150485e-08, 9.99989306e-01, 9.19117643e-05, 1.16601675e-04,\n",
       "       8.98151843e-04, 7.66402139e-01, 9.20812194e-01, 9.45985522e-01,\n",
       "       1.86578548e-03, 9.99360262e-01, 9.97315821e-01, 2.04315351e-03,\n",
       "       1.71856306e-08, 3.21095556e-02, 4.25412366e-04, 8.48030214e-01,\n",
       "       4.63070788e-03, 9.94693436e-01, 9.99993950e-01, 9.81941970e-01,\n",
       "       9.71658890e-01, 9.88679787e-01, 9.99522310e-01, 9.99908048e-01,\n",
       "       2.59802297e-06, 4.55838464e-12, 1.79978526e-02, 2.03126033e-16,\n",
       "       9.99687493e-01, 9.34579896e-01, 9.97798942e-01, 8.75790865e-01,\n",
       "       4.28652316e-22, 6.26353848e-01, 1.45665450e-02, 9.99869379e-01,\n",
       "       9.99787883e-01, 9.99540839e-01, 9.86319842e-01, 9.58382231e-01,\n",
       "       3.12163993e-03, 2.17955271e-04, 4.03006157e-02, 9.99901743e-01,\n",
       "       9.99205123e-01, 1.53680436e-01, 8.70968504e-01, 9.99813614e-01,\n",
       "       2.54247036e-06, 1.13669548e-02, 1.01006419e-04, 1.69006964e-04,\n",
       "       9.98961851e-01, 9.76665722e-01, 3.68133877e-01, 6.94764482e-04,\n",
       "       9.28422036e-01, 9.82561460e-01, 9.90656118e-01, 1.44637295e-07,\n",
       "       2.58769466e-01, 2.33019541e-11, 9.99996643e-01, 9.99872630e-01,\n",
       "       3.50525418e-01, 9.99962304e-01, 9.99554718e-01, 9.99895212e-01,\n",
       "       9.99990434e-01, 1.83948105e-09, 9.06798161e-01, 9.20417582e-01,\n",
       "       9.99870491e-01, 9.88066681e-01, 9.99873291e-01, 9.92633348e-01,\n",
       "       9.99943406e-01, 9.99750382e-01, 9.99900477e-01, 2.30714776e-07,\n",
       "       9.99978441e-01, 9.99984326e-01, 9.98966517e-01, 9.71689718e-01,\n",
       "       9.99977674e-01, 9.97638881e-01, 1.28882374e-01, 4.55355560e-01,\n",
       "       8.81161173e-01, 1.04703270e-06, 9.99959307e-01, 9.99506964e-01,\n",
       "       3.06680629e-01, 1.17833240e-03, 1.96957512e-06, 9.84935377e-01,\n",
       "       3.54440841e-02, 3.43171079e-03, 7.98892430e-01, 8.90920243e-05,\n",
       "       9.97798418e-01, 9.99999978e-01, 8.70144811e-01, 9.99875001e-01,\n",
       "       2.08993836e-02, 9.90048071e-01])"
      ]
     },
     "execution_count": 75,
     "metadata": {},
     "output_type": "execute_result"
    }
   ],
   "source": [
    "y_hat_train_proba = lr.predict_proba(X_train_scaled)[:,1]\n",
    "y_hat_train_proba"
   ]
  },
  {
   "cell_type": "code",
   "execution_count": 77,
   "metadata": {},
   "outputs": [
    {
     "data": {
      "text/plain": [
       "0.9972369166824107"
      ]
     },
     "execution_count": 77,
     "metadata": {},
     "output_type": "execute_result"
    }
   ],
   "source": [
    "from sklearn.metrics import roc_auc_score\n",
    "\n",
    "roc_auc_score(y_train, y_hat_train_proba)\n",
    "\n",
    "\n"
   ]
  },
  {
   "cell_type": "code",
   "execution_count": 80,
   "metadata": {},
   "outputs": [
    {
     "data": {
      "text/plain": [
       "<sklearn.metrics._plot.roc_curve.RocCurveDisplay at 0x227178d7a00>"
      ]
     },
     "execution_count": 80,
     "metadata": {},
     "output_type": "execute_result"
    },
    {
     "data": {
      "image/png": "[encoded data removed]",
      "text/plain": [
       "<Figure size 432x288 with 1 Axes>"
      ]
     },
     "metadata": {
      "needs_background": "light"
     },
     "output_type": "display_data"
    }
   ],
   "source": [
    "from sklearn.metrics import plot_roc_curve\n",
    "plot_roc_curve(lr, X_train_scaled, y_train)"
   ]
  },
  {
   "cell_type": "markdown",
   "metadata": {},
   "source": [
    "Now, using those probabilities, create two arrays, one which converts the probabilities to label predictions using the default threshold, and one using a threshold of .4.  How does it affect our metrics?"
   ]
  },
  {
   "cell_type": "code",
   "execution_count": 79,
   "metadata": {},
   "outputs": [
    {
     "data": {
      "text/plain": [
       "((156, 270), (154, 272))"
      ]
     },
     "execution_count": 79,
     "metadata": {},
     "output_type": "execute_result"
    }
   ],
   "source": [
    "def prob_threshold(array, threshold):\n",
    "    zeros = []\n",
    "    ones = []\n",
    "    for x in array:\n",
    "        if x[1] >= threshold:\n",
    "            ones.append(1)\n",
    "        else:\n",
    "            zeros.append(0)\n",
    "    return len(zeros), len(ones)\n",
    "\n",
    "pp = lr.predict_proba(X_train_scaled)\n",
    "\n",
    "prob_threshold(pp, .5), prob_threshold(pp, .4)\n"
   ]
  },
  {
   "cell_type": "code",
   "execution_count": null,
   "metadata": {},
   "outputs": [],
   "source": [
    "# Plot the AUC_ROC curve for our classifier"
   ]
  },
  {
   "cell_type": "markdown",
   "metadata": {},
   "source": [
    "<a id='algos'></a>"
   ]
  },
  {
   "cell_type": "markdown",
   "metadata": {},
   "source": [
    "# More Algorithms"
   ]
  },
  {
   "cell_type": "markdown",
   "metadata": {},
   "source": [
    "Much of the sklearn syntax is shared across classifiers and regressors.  Fit, predict, score, and more are methods associated with all sklearn classifiers.  They work differently under the hood. KNN's fit method simply stores the training set in memory. Logistic regressions .fit() does the hard work of calculating coefficients. \n",
    "\n",
    "![lazy_george](https://media.giphy.com/media/8TJK6prvRXF6g/giphy.gif)\n",
    "\n",
    "However, each algo also has specific parameters and methods associated with it.  For example, decision trees have feature importances and logistic has coefficients. KNN has n_neighbors and decision trees has max_depth.\n"
   ]
  },
  {
   "cell_type": "markdown",
   "metadata": {},
   "source": [
    "Getting to know the algo's and their associated properties is an important area of study. \n",
    "\n",
    "That being said, you now are getting to the point that no matter which algorithm you choose, you can run the code to create a model as long as you have the data in the correct shape. Most importantly, the target is the appropriate form (continuous/categorical) and is isolated from the predictors."
   ]
  },
  {
   "cell_type": "markdown",
   "metadata": {},
   "source": [
    "Here are the algos we know so far. \n",
    " - Linear Regression\n",
    " - Lasso/Ridge Regression\n",
    " - Logistic Regression\n",
    " - Naive-Bayes\n",
    " - KNN\n",
    " - Decision Trees\n",
    " \n",
    "> Note that KNN and decision trees also have regression classes in sklearn.\n"
   ]
  },
  {
   "cell_type": "markdown",
   "metadata": {},
   "source": [
    "Here are two datasets from seaborn and sklearn.  Let's work through the process of creating simple models for each."
   ]
  },
  {
   "cell_type": "code",
   "execution_count": null,
   "metadata": {},
   "outputs": [],
   "source": [
    "import seaborn as sns\n",
    "penguins = sns.load_dataset('penguins')\n",
    "penguins.head()"
   ]
  },
  {
   "cell_type": "raw",
   "metadata": {},
   "source": [
    "Question: What algorithm would be appropriate based on the target"
   ]
  },
  {
   "cell_type": "code",
   "execution_count": null,
   "metadata": {},
   "outputs": [],
   "source": [
    "# split target from predictors"
   ]
  },
  {
   "cell_type": "code",
   "execution_count": null,
   "metadata": {},
   "outputs": [],
   "source": [
    "one_random_student(quanggang)"
   ]
  },
  {
   "cell_type": "raw",
   "metadata": {},
   "source": [
    "For the first simple model, let's just use the numeric predictors."
   ]
  },
  {
   "cell_type": "code",
   "execution_count": null,
   "metadata": {},
   "outputs": [],
   "source": [
    "one_random_student(quanggang)"
   ]
  },
  {
   "cell_type": "code",
   "execution_count": null,
   "metadata": {},
   "outputs": [],
   "source": [
    "# isolate numeric predictors"
   ]
  },
  {
   "cell_type": "code",
   "execution_count": null,
   "metadata": {},
   "outputs": [],
   "source": [
    "one_random_student(quanggang)"
   ]
  },
  {
   "cell_type": "code",
   "execution_count": null,
   "metadata": {},
   "outputs": [],
   "source": [
    "# Scale appropriately\n"
   ]
  },
  {
   "cell_type": "code",
   "execution_count": null,
   "metadata": {},
   "outputs": [],
   "source": [
    "one_random_student(quanggang)"
   ]
  },
  {
   "cell_type": "code",
   "execution_count": null,
   "metadata": {},
   "outputs": [],
   "source": [
    "# instantiate appropriate model and fit to appropriate part of data.\n"
   ]
  },
  {
   "cell_type": "code",
   "execution_count": null,
   "metadata": {},
   "outputs": [],
   "source": [
    "one_random_student(quanggang)"
   ]
  },
  {
   "cell_type": "code",
   "execution_count": null,
   "metadata": {},
   "outputs": [],
   "source": [
    "# Create a set of predictions\n",
    "\n",
    "y_hat_train = None\n",
    "y_hat_test = None\n"
   ]
  },
  {
   "cell_type": "code",
   "execution_count": null,
   "metadata": {},
   "outputs": [],
   "source": [
    "one_random_student(quanggang)"
   ]
  },
  {
   "cell_type": "code",
   "execution_count": null,
   "metadata": {},
   "outputs": [],
   "source": [
    "# Create and analyze appropriate metrics"
   ]
  },
  {
   "cell_type": "code",
   "execution_count": null,
   "metadata": {},
   "outputs": [],
   "source": [
    "one_random_student(quanggang)"
   ]
  },
  {
   "cell_type": "code",
   "execution_count": null,
   "metadata": {},
   "outputs": [],
   "source": [
    "from sklearn.datasets import load_boston\n",
    "data = load_boston()\n",
    "X = pd.DataFrame(data['data'], columns = data['feature_names'])\n",
    "y = data['target']"
   ]
  },
  {
   "cell_type": "raw",
   "metadata": {},
   "source": [
    "Question: What algorithm would be appropriate based on the target?"
   ]
  },
  {
   "cell_type": "code",
   "execution_count": null,
   "metadata": {},
   "outputs": [],
   "source": [
    "one_random_student(quanggang)"
   ]
  },
  {
   "cell_type": "code",
   "execution_count": null,
   "metadata": {},
   "outputs": [],
   "source": [
    "# split target from predictors"
   ]
  },
  {
   "cell_type": "code",
   "execution_count": null,
   "metadata": {},
   "outputs": [],
   "source": [
    "one_random_student(quanggang)"
   ]
  },
  {
   "cell_type": "raw",
   "metadata": {},
   "source": [
    "For the first simple model, let's just use the numeric predictors."
   ]
  },
  {
   "cell_type": "code",
   "execution_count": null,
   "metadata": {},
   "outputs": [],
   "source": [
    "# isolate numeric predictors"
   ]
  },
  {
   "cell_type": "code",
   "execution_count": null,
   "metadata": {},
   "outputs": [],
   "source": [
    "one_random_student(quanggang)"
   ]
  },
  {
   "cell_type": "code",
   "execution_count": null,
   "metadata": {},
   "outputs": [],
   "source": [
    "# Scale appropriately\n"
   ]
  },
  {
   "cell_type": "code",
   "execution_count": null,
   "metadata": {},
   "outputs": [],
   "source": [
    "one_random_student(quanggang)"
   ]
  },
  {
   "cell_type": "code",
   "execution_count": null,
   "metadata": {},
   "outputs": [],
   "source": [
    "# instantiate appropriate model and fit to appropriate part of data.\n"
   ]
  },
  {
   "cell_type": "code",
   "execution_count": null,
   "metadata": {},
   "outputs": [],
   "source": [
    "one_random_student(quanggang)"
   ]
  },
  {
   "cell_type": "code",
   "execution_count": null,
   "metadata": {},
   "outputs": [],
   "source": [
    "# Create a set of predictions\n",
    "\n",
    "y_hat_train = None\n",
    "y_hat_test = None\n"
   ]
  },
  {
   "cell_type": "code",
   "execution_count": null,
   "metadata": {},
   "outputs": [],
   "source": [
    "one_random_student(quanggang)"
   ]
  },
  {
   "cell_type": "code",
   "execution_count": null,
   "metadata": {},
   "outputs": [],
   "source": [
    "# Create and analyze appropriate metrics"
   ]
  },
  {
   "cell_type": "code",
   "execution_count": null,
   "metadata": {},
   "outputs": [],
   "source": [
    "one_random_student(quanggang)"
   ]
  }
 ],
 "metadata": {
  "kernelspec": {
   "display_name": "Python (learn-env)",
   "language": "python",
   "name": "learn-env"
  },
  "language_info": {
   "codemirror_mode": {
    "name": "ipython",
    "version": 3
   },
   "file_extension": ".py",
   "mimetype": "text/x-python",
   "name": "python",
   "nbconvert_exporter": "python",
   "pygments_lexer": "ipython3",
   "version": "3.8.5"
  }
 },
 "nbformat": 4,
 "nbformat_minor": 4
}
